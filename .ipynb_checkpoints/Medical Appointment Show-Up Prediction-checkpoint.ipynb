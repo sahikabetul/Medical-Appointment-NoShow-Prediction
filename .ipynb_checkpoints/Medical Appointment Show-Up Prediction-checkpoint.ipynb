{
 "cells": [
  {
   "cell_type": "markdown",
   "metadata": {},
   "source": [
    "# Business Understanding"
   ]
  },
  {
   "cell_type": "markdown",
   "metadata": {},
   "source": [
    "A person makes a doctor appointment, receives all the instructions and no-show. Could we predict this patients before the appointment?\n",
    "\n",
    "\"The Medical-Appointment-No-Shows\" dataset includes details of appointments of Brazilian people with the doctor. Data of appointments was combined from more than 45 clinics and hospitals at municipal level in Brazil betweeen 29/4/2016 and 6/6/2016.\n",
    "\n",
    "**Problem:** Many patients book the appointment with doctor then didn't show up on scheduled day. After so many studies happening on this data the average No-Show is 20%. The city has to lose 20 million every year due to patients not showing at their scheduled appointment.\n",
    "\n",
    "**Objective of the analysis:** Investigate the reason why some patients do not show up to their scheduled appointments and find the probability of missing the appointment."
   ]
  },
  {
   "cell_type": "markdown",
   "metadata": {},
   "source": [
    "# Data Understanding"
   ]
  },
  {
   "cell_type": "markdown",
   "metadata": {},
   "source": [
    "#### Medical Appointment No Shows Dataset"
   ]
  },
  {
   "cell_type": "markdown",
   "metadata": {},
   "source": [
    "110.527 medical appointments and its 14 associated variables (characteristics). The most important one if the patient show-up or no-show to the appointment.\n",
    "\n",
    "**Attribute Information**\n",
    "\n",
    "1. **PatientId:** Identification of a patient\n",
    "2. **AppointmentID:** Identification of each appointment\n",
    "3. **Gender:** Male or Female.\n",
    "4. **AppointmentDay:** The day of the actual appointment, when they have to visit the doctor.\n",
    "5. **ScheduledDay:** The day someone called or registered the appointment, this is before appointment of course.\n",
    "6. **Age:** How old is the patient.\n",
    "7. **Neighbourhood:** Where the appointment takes place.\n",
    "8. **Scholarship:** True of False . Observation, this is a broad topic, consider reading this article https://en.wikipedia.org/wiki/Bolsa_Fam%C3%ADlia\n",
    "9. **Hipertension:** True or False\n",
    "10. **Diabetes:** True or False\n",
    "11. **Alcoholism:** True or False\n",
    "12. **Handcap:** True or False\n",
    "13. **SMS_received:** 1 or more messages sent to the patient.\n",
    "14. **No-show:** True or False.\n",
    "\n",
    "**Dataset URL**\n",
    "https://www.kaggle.com/joniarroba/noshowappointments"
   ]
  },
  {
   "cell_type": "markdown",
   "metadata": {},
   "source": [
    "# Load Libraries"
   ]
  },
  {
   "cell_type": "code",
   "execution_count": 230,
   "metadata": {},
   "outputs": [],
   "source": [
    "import numpy as np\n",
    "import pandas as pd\n",
    "import matplotlib.pyplot as plt\n",
    "import seaborn as sns\n",
    "import plotly.graph_objs as go\n",
    "import datetime\n",
    "from time import strftime\n",
    "import statistics\n",
    "\n",
    "from sklearn.pipeline import Pipeline\n",
    "from sklearn.preprocessing import StandardScaler\n",
    "from sklearn.linear_model import LinearRegression,LogisticRegression\n",
    "from sklearn.tree import DecisionTreeRegressor,DecisionTreeClassifier\n",
    "from sklearn.ensemble import RandomForestClassifier\n",
    "from sklearn.svm import SVC\n",
    "from sklearn.model_selection import train_test_split, cross_val_score\n",
    "from sklearn.metrics import classification_report,confusion_matrix,f1_score\n",
    "from plotly.subplots import make_subplots\n",
    "from sklearn.metrics import accuracy_score, confusion_matrix, roc_auc_score, ConfusionMatrixDisplay, precision_score, recall_score, f1_score, classification_report, roc_curve, plot_roc_curve, auc, precision_recall_curve, plot_precision_recall_curve, average_precision_score\n",
    "from imblearn.over_sampling import SMOTE\n",
    "from sklearn.model_selection import GridSearchCV, GroupShuffleSplit\n",
    "from sklearn.ensemble import GradientBoostingClassifier"
   ]
  },
  {
   "cell_type": "markdown",
   "metadata": {},
   "source": [
    "# Load Data"
   ]
  },
  {
   "cell_type": "code",
   "execution_count": 231,
   "metadata": {},
   "outputs": [
    {
     "data": {
      "text/html": [
       "<div>\n",
       "<style scoped>\n",
       "    .dataframe tbody tr th:only-of-type {\n",
       "        vertical-align: middle;\n",
       "    }\n",
       "\n",
       "    .dataframe tbody tr th {\n",
       "        vertical-align: top;\n",
       "    }\n",
       "\n",
       "    .dataframe thead th {\n",
       "        text-align: right;\n",
       "    }\n",
       "</style>\n",
       "<table border=\"1\" class=\"dataframe\">\n",
       "  <thead>\n",
       "    <tr style=\"text-align: right;\">\n",
       "      <th></th>\n",
       "      <th>PatientId</th>\n",
       "      <th>AppointmentID</th>\n",
       "      <th>Gender</th>\n",
       "      <th>ScheduledDay</th>\n",
       "      <th>AppointmentDay</th>\n",
       "      <th>Age</th>\n",
       "      <th>Neighbourhood</th>\n",
       "      <th>Scholarship</th>\n",
       "      <th>Hipertension</th>\n",
       "      <th>Diabetes</th>\n",
       "      <th>Alcoholism</th>\n",
       "      <th>Handcap</th>\n",
       "      <th>SMS_received</th>\n",
       "      <th>No-show</th>\n",
       "    </tr>\n",
       "  </thead>\n",
       "  <tbody>\n",
       "    <tr>\n",
       "      <th>0</th>\n",
       "      <td>2.987250e+13</td>\n",
       "      <td>5642903</td>\n",
       "      <td>F</td>\n",
       "      <td>2016-04-29T18:38:08Z</td>\n",
       "      <td>2016-04-29T00:00:00Z</td>\n",
       "      <td>62</td>\n",
       "      <td>JARDIM DA PENHA</td>\n",
       "      <td>0</td>\n",
       "      <td>1</td>\n",
       "      <td>0</td>\n",
       "      <td>0</td>\n",
       "      <td>0</td>\n",
       "      <td>0</td>\n",
       "      <td>No</td>\n",
       "    </tr>\n",
       "    <tr>\n",
       "      <th>1</th>\n",
       "      <td>5.589978e+14</td>\n",
       "      <td>5642503</td>\n",
       "      <td>M</td>\n",
       "      <td>2016-04-29T16:08:27Z</td>\n",
       "      <td>2016-04-29T00:00:00Z</td>\n",
       "      <td>56</td>\n",
       "      <td>JARDIM DA PENHA</td>\n",
       "      <td>0</td>\n",
       "      <td>0</td>\n",
       "      <td>0</td>\n",
       "      <td>0</td>\n",
       "      <td>0</td>\n",
       "      <td>0</td>\n",
       "      <td>No</td>\n",
       "    </tr>\n",
       "    <tr>\n",
       "      <th>2</th>\n",
       "      <td>4.262962e+12</td>\n",
       "      <td>5642549</td>\n",
       "      <td>F</td>\n",
       "      <td>2016-04-29T16:19:04Z</td>\n",
       "      <td>2016-04-29T00:00:00Z</td>\n",
       "      <td>62</td>\n",
       "      <td>MATA DA PRAIA</td>\n",
       "      <td>0</td>\n",
       "      <td>0</td>\n",
       "      <td>0</td>\n",
       "      <td>0</td>\n",
       "      <td>0</td>\n",
       "      <td>0</td>\n",
       "      <td>No</td>\n",
       "    </tr>\n",
       "  </tbody>\n",
       "</table>\n",
       "</div>"
      ],
      "text/plain": [
       "      PatientId  AppointmentID Gender          ScheduledDay  \\\n",
       "0  2.987250e+13        5642903      F  2016-04-29T18:38:08Z   \n",
       "1  5.589978e+14        5642503      M  2016-04-29T16:08:27Z   \n",
       "2  4.262962e+12        5642549      F  2016-04-29T16:19:04Z   \n",
       "\n",
       "         AppointmentDay  Age    Neighbourhood  Scholarship  Hipertension  \\\n",
       "0  2016-04-29T00:00:00Z   62  JARDIM DA PENHA            0             1   \n",
       "1  2016-04-29T00:00:00Z   56  JARDIM DA PENHA            0             0   \n",
       "2  2016-04-29T00:00:00Z   62    MATA DA PRAIA            0             0   \n",
       "\n",
       "   Diabetes  Alcoholism  Handcap  SMS_received No-show  \n",
       "0         0           0        0             0      No  \n",
       "1         0           0        0             0      No  \n",
       "2         0           0        0             0      No  "
      ]
     },
     "execution_count": 231,
     "metadata": {},
     "output_type": "execute_result"
    }
   ],
   "source": [
    "df = pd.read_csv('KaggleV2-May-2016.csv')\n",
    "df.head(3)"
   ]
  },
  {
   "cell_type": "code",
   "execution_count": 232,
   "metadata": {},
   "outputs": [
    {
     "data": {
      "text/plain": [
       "(110527, 14)"
      ]
     },
     "execution_count": 232,
     "metadata": {},
     "output_type": "execute_result"
    }
   ],
   "source": [
    "df.shape"
   ]
  },
  {
   "cell_type": "markdown",
   "metadata": {},
   "source": [
    "We have 110.527 medical appointments and its 13 associated variables (characteristics) for predicting show-up status."
   ]
  },
  {
   "cell_type": "markdown",
   "metadata": {},
   "source": [
    "# Prepare Data"
   ]
  },
  {
   "cell_type": "code",
   "execution_count": 233,
   "metadata": {},
   "outputs": [
    {
     "name": "stdout",
     "output_type": "stream",
     "text": [
      "<class 'pandas.core.frame.DataFrame'>\n",
      "RangeIndex: 110527 entries, 0 to 110526\n",
      "Data columns (total 14 columns):\n",
      " #   Column          Non-Null Count   Dtype  \n",
      "---  ------          --------------   -----  \n",
      " 0   PatientId       110527 non-null  float64\n",
      " 1   AppointmentID   110527 non-null  int64  \n",
      " 2   Gender          110527 non-null  object \n",
      " 3   ScheduledDay    110527 non-null  object \n",
      " 4   AppointmentDay  110527 non-null  object \n",
      " 5   Age             110527 non-null  int64  \n",
      " 6   Neighbourhood   110527 non-null  object \n",
      " 7   Scholarship     110527 non-null  int64  \n",
      " 8   Hipertension    110527 non-null  int64  \n",
      " 9   Diabetes        110527 non-null  int64  \n",
      " 10  Alcoholism      110527 non-null  int64  \n",
      " 11  Handcap         110527 non-null  int64  \n",
      " 12  SMS_received    110527 non-null  int64  \n",
      " 13  No-show         110527 non-null  object \n",
      "dtypes: float64(1), int64(8), object(5)\n",
      "memory usage: 11.8+ MB\n"
     ]
    }
   ],
   "source": [
    "df.info()"
   ]
  },
  {
   "cell_type": "code",
   "execution_count": 234,
   "metadata": {},
   "outputs": [
    {
     "data": {
      "text/plain": [
       "dtype('int64')"
      ]
     },
     "execution_count": 234,
     "metadata": {},
     "output_type": "execute_result"
    }
   ],
   "source": [
    "# Dataset has no null values.\n",
    "# \"PatientId\" column's datatype is float and not approvable.\n",
    "# Convert \"PatientId\" column into integer\n",
    "\n",
    "df.PatientId = df.PatientId.astype('int64')\n",
    "df.PatientId.dtypes"
   ]
  },
  {
   "cell_type": "code",
   "execution_count": 235,
   "metadata": {},
   "outputs": [
    {
     "data": {
      "text/plain": [
       "array(['No', 'Yes'], dtype=object)"
      ]
     },
     "execution_count": 235,
     "metadata": {},
     "output_type": "execute_result"
    }
   ],
   "source": [
    "# \"No-show\" column seems in string format.\n",
    "# For converting them to boolean, show the unique values.\n",
    "\n",
    "df[\"No-show\"].unique()"
   ]
  },
  {
   "cell_type": "code",
   "execution_count": 236,
   "metadata": {},
   "outputs": [],
   "source": [
    "# Rename 'No-show' column as 'Show' and values to 1 or 0\n",
    "df = df.rename(columns={\"No-show\": \"Show\"})\n",
    "df['Show'] = df['Show'].replace({'No': 1, 'Yes': 0})"
   ]
  },
  {
   "cell_type": "code",
   "execution_count": 237,
   "metadata": {},
   "outputs": [],
   "source": [
    "# Rename 'Gender' column as 'IsMale' and values to 1 or 0\n",
    "df = df.rename(columns={\"Gender\": \"IsMale\"})\n",
    "df['IsMale'] = df['IsMale'].replace({'F': 0, 'M': 1})"
   ]
  },
  {
   "cell_type": "code",
   "execution_count": 238,
   "metadata": {},
   "outputs": [
    {
     "data": {
      "text/html": [
       "<div>\n",
       "<style scoped>\n",
       "    .dataframe tbody tr th:only-of-type {\n",
       "        vertical-align: middle;\n",
       "    }\n",
       "\n",
       "    .dataframe tbody tr th {\n",
       "        vertical-align: top;\n",
       "    }\n",
       "\n",
       "    .dataframe thead th {\n",
       "        text-align: right;\n",
       "    }\n",
       "</style>\n",
       "<table border=\"1\" class=\"dataframe\">\n",
       "  <thead>\n",
       "    <tr style=\"text-align: right;\">\n",
       "      <th></th>\n",
       "      <th>PatientId</th>\n",
       "      <th>AppointmentID</th>\n",
       "      <th>IsMale</th>\n",
       "      <th>Age</th>\n",
       "      <th>Scholarship</th>\n",
       "      <th>Hipertension</th>\n",
       "      <th>Diabetes</th>\n",
       "      <th>Alcoholism</th>\n",
       "      <th>Handcap</th>\n",
       "      <th>SMS_received</th>\n",
       "      <th>Show</th>\n",
       "    </tr>\n",
       "  </thead>\n",
       "  <tbody>\n",
       "    <tr>\n",
       "      <th>count</th>\n",
       "      <td>1.105270e+05</td>\n",
       "      <td>1.105270e+05</td>\n",
       "      <td>110527.000000</td>\n",
       "      <td>110527.000000</td>\n",
       "      <td>110527.000000</td>\n",
       "      <td>110527.000000</td>\n",
       "      <td>110527.000000</td>\n",
       "      <td>110527.000000</td>\n",
       "      <td>110527.000000</td>\n",
       "      <td>110527.000000</td>\n",
       "      <td>110527.000000</td>\n",
       "    </tr>\n",
       "    <tr>\n",
       "      <th>mean</th>\n",
       "      <td>1.474963e+14</td>\n",
       "      <td>5.675305e+06</td>\n",
       "      <td>0.350023</td>\n",
       "      <td>37.088874</td>\n",
       "      <td>0.098266</td>\n",
       "      <td>0.197246</td>\n",
       "      <td>0.071865</td>\n",
       "      <td>0.030400</td>\n",
       "      <td>0.022248</td>\n",
       "      <td>0.321026</td>\n",
       "      <td>0.798067</td>\n",
       "    </tr>\n",
       "    <tr>\n",
       "      <th>std</th>\n",
       "      <td>2.560949e+14</td>\n",
       "      <td>7.129575e+04</td>\n",
       "      <td>0.476979</td>\n",
       "      <td>23.110205</td>\n",
       "      <td>0.297675</td>\n",
       "      <td>0.397921</td>\n",
       "      <td>0.258265</td>\n",
       "      <td>0.171686</td>\n",
       "      <td>0.161543</td>\n",
       "      <td>0.466873</td>\n",
       "      <td>0.401444</td>\n",
       "    </tr>\n",
       "    <tr>\n",
       "      <th>min</th>\n",
       "      <td>3.921700e+04</td>\n",
       "      <td>5.030230e+06</td>\n",
       "      <td>0.000000</td>\n",
       "      <td>-1.000000</td>\n",
       "      <td>0.000000</td>\n",
       "      <td>0.000000</td>\n",
       "      <td>0.000000</td>\n",
       "      <td>0.000000</td>\n",
       "      <td>0.000000</td>\n",
       "      <td>0.000000</td>\n",
       "      <td>0.000000</td>\n",
       "    </tr>\n",
       "    <tr>\n",
       "      <th>25%</th>\n",
       "      <td>4.172614e+12</td>\n",
       "      <td>5.640286e+06</td>\n",
       "      <td>0.000000</td>\n",
       "      <td>18.000000</td>\n",
       "      <td>0.000000</td>\n",
       "      <td>0.000000</td>\n",
       "      <td>0.000000</td>\n",
       "      <td>0.000000</td>\n",
       "      <td>0.000000</td>\n",
       "      <td>0.000000</td>\n",
       "      <td>1.000000</td>\n",
       "    </tr>\n",
       "    <tr>\n",
       "      <th>50%</th>\n",
       "      <td>3.173184e+13</td>\n",
       "      <td>5.680573e+06</td>\n",
       "      <td>0.000000</td>\n",
       "      <td>37.000000</td>\n",
       "      <td>0.000000</td>\n",
       "      <td>0.000000</td>\n",
       "      <td>0.000000</td>\n",
       "      <td>0.000000</td>\n",
       "      <td>0.000000</td>\n",
       "      <td>0.000000</td>\n",
       "      <td>1.000000</td>\n",
       "    </tr>\n",
       "    <tr>\n",
       "      <th>75%</th>\n",
       "      <td>9.439172e+13</td>\n",
       "      <td>5.725524e+06</td>\n",
       "      <td>1.000000</td>\n",
       "      <td>55.000000</td>\n",
       "      <td>0.000000</td>\n",
       "      <td>0.000000</td>\n",
       "      <td>0.000000</td>\n",
       "      <td>0.000000</td>\n",
       "      <td>0.000000</td>\n",
       "      <td>1.000000</td>\n",
       "      <td>1.000000</td>\n",
       "    </tr>\n",
       "    <tr>\n",
       "      <th>max</th>\n",
       "      <td>9.999816e+14</td>\n",
       "      <td>5.790484e+06</td>\n",
       "      <td>1.000000</td>\n",
       "      <td>115.000000</td>\n",
       "      <td>1.000000</td>\n",
       "      <td>1.000000</td>\n",
       "      <td>1.000000</td>\n",
       "      <td>1.000000</td>\n",
       "      <td>4.000000</td>\n",
       "      <td>1.000000</td>\n",
       "      <td>1.000000</td>\n",
       "    </tr>\n",
       "  </tbody>\n",
       "</table>\n",
       "</div>"
      ],
      "text/plain": [
       "          PatientId  AppointmentID         IsMale            Age  \\\n",
       "count  1.105270e+05   1.105270e+05  110527.000000  110527.000000   \n",
       "mean   1.474963e+14   5.675305e+06       0.350023      37.088874   \n",
       "std    2.560949e+14   7.129575e+04       0.476979      23.110205   \n",
       "min    3.921700e+04   5.030230e+06       0.000000      -1.000000   \n",
       "25%    4.172614e+12   5.640286e+06       0.000000      18.000000   \n",
       "50%    3.173184e+13   5.680573e+06       0.000000      37.000000   \n",
       "75%    9.439172e+13   5.725524e+06       1.000000      55.000000   \n",
       "max    9.999816e+14   5.790484e+06       1.000000     115.000000   \n",
       "\n",
       "         Scholarship   Hipertension       Diabetes     Alcoholism  \\\n",
       "count  110527.000000  110527.000000  110527.000000  110527.000000   \n",
       "mean        0.098266       0.197246       0.071865       0.030400   \n",
       "std         0.297675       0.397921       0.258265       0.171686   \n",
       "min         0.000000       0.000000       0.000000       0.000000   \n",
       "25%         0.000000       0.000000       0.000000       0.000000   \n",
       "50%         0.000000       0.000000       0.000000       0.000000   \n",
       "75%         0.000000       0.000000       0.000000       0.000000   \n",
       "max         1.000000       1.000000       1.000000       1.000000   \n",
       "\n",
       "             Handcap   SMS_received           Show  \n",
       "count  110527.000000  110527.000000  110527.000000  \n",
       "mean        0.022248       0.321026       0.798067  \n",
       "std         0.161543       0.466873       0.401444  \n",
       "min         0.000000       0.000000       0.000000  \n",
       "25%         0.000000       0.000000       1.000000  \n",
       "50%         0.000000       0.000000       1.000000  \n",
       "75%         0.000000       1.000000       1.000000  \n",
       "max         4.000000       1.000000       1.000000  "
      ]
     },
     "execution_count": 238,
     "metadata": {},
     "output_type": "execute_result"
    }
   ],
   "source": [
    "df.describe()"
   ]
  },
  {
   "cell_type": "code",
   "execution_count": 239,
   "metadata": {},
   "outputs": [],
   "source": [
    "# Negative values in \"age\" column is not possible.\n",
    "# 115 for max age is not common but possible.\n",
    "# Remove rows which have age less than 0\n",
    "\n",
    "df = df[df[\"Age\"] >= 0]"
   ]
  },
  {
   "cell_type": "code",
   "execution_count": 240,
   "metadata": {},
   "outputs": [
    {
     "data": {
      "image/png": "[encoded data removed]",
      "text/plain": [
       "<Figure size 350x350 with 1 Axes>"
      ]
     },
     "metadata": {
      "needs_background": "light"
     },
     "output_type": "display_data"
    }
   ],
   "source": [
    "data = df.Age\n",
    "plt.figure(figsize=(5,5),dpi=70)\n",
    "bp = plt.boxplot(data,patch_artist = True,notch ='True');\n",
    "\n",
    "for whisker in bp['whiskers']:\n",
    "    whisker.set(linewidth = 2,\n",
    "                linestyle =\"-\")\n",
    "    \n",
    "for cap in bp['caps']:\n",
    "    cap.set(linewidth = 2)\n",
    "    \n",
    "for median in bp['medians']:\n",
    "    median.set(linewidth = 4)\n",
    "    \n",
    "plt.ylabel(\"Age\",size=12)\n",
    "plt.title(\"\\nBox plot of 'Age' column\\n\",size=15);"
   ]
  },
  {
   "cell_type": "markdown",
   "metadata": {},
   "source": [
    "115 is an outlier 'Age' value.\n",
    "I will scale age column with standard scaler later, with waiting day feature.\n"
   ]
  },
  {
   "cell_type": "markdown",
   "metadata": {},
   "source": [
    "\"ScheduledDay\" and \"AppointmentDay\" columns' datatypes are string. I will convert them into date-time format for using to get better analysis. We can extract the date, day of the week, month and time from the date-time format."
   ]
  },
  {
   "cell_type": "code",
   "execution_count": 241,
   "metadata": {},
   "outputs": [
    {
     "data": {
      "text/plain": [
       "ScheduledDay      datetime64[ns, UTC]\n",
       "AppointmentDay    datetime64[ns, UTC]\n",
       "dtype: object"
      ]
     },
     "execution_count": 241,
     "metadata": {},
     "output_type": "execute_result"
    }
   ],
   "source": [
    "# Convert \"ScheduledDay\" and \"AppointmentDay\" columns into date-time\n",
    "\n",
    "df.ScheduledDay = pd.to_datetime(df.ScheduledDay)\n",
    "df.AppointmentDay = pd.to_datetime(df.AppointmentDay)\n",
    "df[['ScheduledDay','AppointmentDay']].dtypes"
   ]
  },
  {
   "cell_type": "markdown",
   "metadata": {},
   "source": [
    "I will add new columns from ScheduledDay and AppointmentDay:\n",
    "\n",
    "* **ScheduledHour:** hour of Scheduled Day\n",
    "* **AppointmentTime:** time of Appointment Day\n",
    "* **ScheduleDate:** date of Scheduled Day\n",
    "* **AppointmentDate:** date of Appointment Day\n",
    "* **AppointmentWeekDay:** the day of the week of Appointment Day\n",
    "* **AppointmentMonth:** the month of Appointment Day\n",
    "* **AppointmentMonth:** the month of Appointment Day\n",
    "* **WaitingDays:** waiting days before Appointment Day"
   ]
  },
  {
   "cell_type": "code",
   "execution_count": 242,
   "metadata": {},
   "outputs": [],
   "source": [
    "# Get time columns from date-time columns\n",
    "df['ScheduledHour'] = pd.to_datetime(df.ScheduledDay).dt.hour\n",
    "df['AppointmentTime'] = pd.to_datetime(df.AppointmentDay).dt.time\n",
    "\n",
    "# Convert time included date-time columns to only date columns\n",
    "df['ScheduledDay'] = df['ScheduledDay'].dt.date\n",
    "df['AppointmentDay'] = df['AppointmentDay'].dt.date\n",
    "\n",
    "# Get month and week of day information from dates\n",
    "df['AppointmentWeekDay'] = pd.to_datetime(df.AppointmentDay).dt.day_name()\n",
    "df['AppointmentMonth'] = pd.to_datetime(df.AppointmentDay).dt.month_name()"
   ]
  },
  {
   "cell_type": "code",
   "execution_count": 243,
   "metadata": {},
   "outputs": [],
   "source": [
    "# Calculate waiting days before appointment\n",
    "df['WaitingDays'] = df.AppointmentDay - df.ScheduledDay\n",
    "\n",
    "# Convert datatype to int\n",
    "df.WaitingDays = df.WaitingDays.astype('str')\n",
    "df.WaitingDays = df.WaitingDays.apply(lambda x: x.split()[0])\n",
    "df.WaitingDays = df.WaitingDays.astype('int64')"
   ]
  },
  {
   "cell_type": "code",
   "execution_count": 244,
   "metadata": {},
   "outputs": [],
   "source": [
    "# I will scale age column with standard scaler\n",
    "\n",
    "std=StandardScaler()\n",
    "\n",
    "columns = ['Age', 'WaitingDays', 'ScheduledHour']\n",
    "new_columns = ['AgeScaled', 'WaitingDaysScaled', 'ScheduledHourScaled']\n",
    "scaled = std.fit_transform(df[columns])\n",
    "scaled = pd.DataFrame(scaled, columns=new_columns, index= df.index.values)\n",
    "\n",
    "df = df.merge(scaled, left_index=True, right_index=True, how = \"left\")"
   ]
  },
  {
   "cell_type": "code",
   "execution_count": 245,
   "metadata": {},
   "outputs": [
    {
     "data": {
      "text/html": [
       "<div>\n",
       "<style scoped>\n",
       "    .dataframe tbody tr th:only-of-type {\n",
       "        vertical-align: middle;\n",
       "    }\n",
       "\n",
       "    .dataframe tbody tr th {\n",
       "        vertical-align: top;\n",
       "    }\n",
       "\n",
       "    .dataframe thead th {\n",
       "        text-align: right;\n",
       "    }\n",
       "</style>\n",
       "<table border=\"1\" class=\"dataframe\">\n",
       "  <thead>\n",
       "    <tr style=\"text-align: right;\">\n",
       "      <th></th>\n",
       "      <th>PatientId</th>\n",
       "      <th>AppointmentID</th>\n",
       "      <th>IsMale</th>\n",
       "      <th>ScheduledDay</th>\n",
       "      <th>AppointmentDay</th>\n",
       "      <th>Age</th>\n",
       "      <th>Neighbourhood</th>\n",
       "      <th>Scholarship</th>\n",
       "      <th>Hipertension</th>\n",
       "      <th>Diabetes</th>\n",
       "      <th>...</th>\n",
       "      <th>SMS_received</th>\n",
       "      <th>Show</th>\n",
       "      <th>ScheduledHour</th>\n",
       "      <th>AppointmentTime</th>\n",
       "      <th>AppointmentWeekDay</th>\n",
       "      <th>AppointmentMonth</th>\n",
       "      <th>WaitingDays</th>\n",
       "      <th>AgeScaled</th>\n",
       "      <th>WaitingDaysScaled</th>\n",
       "      <th>ScheduledHourScaled</th>\n",
       "    </tr>\n",
       "  </thead>\n",
       "  <tbody>\n",
       "    <tr>\n",
       "      <th>0</th>\n",
       "      <td>29872499824296</td>\n",
       "      <td>5642903</td>\n",
       "      <td>0</td>\n",
       "      <td>2016-04-29</td>\n",
       "      <td>2016-04-29</td>\n",
       "      <td>62</td>\n",
       "      <td>JARDIM DA PENHA</td>\n",
       "      <td>0</td>\n",
       "      <td>1</td>\n",
       "      <td>0</td>\n",
       "      <td>...</td>\n",
       "      <td>0</td>\n",
       "      <td>1</td>\n",
       "      <td>18</td>\n",
       "      <td>00:00:00</td>\n",
       "      <td>Friday</td>\n",
       "      <td>April</td>\n",
       "      <td>0</td>\n",
       "      <td>1.077926</td>\n",
       "      <td>-0.667572</td>\n",
       "      <td>2.246598</td>\n",
       "    </tr>\n",
       "    <tr>\n",
       "      <th>1</th>\n",
       "      <td>558997776694438</td>\n",
       "      <td>5642503</td>\n",
       "      <td>1</td>\n",
       "      <td>2016-04-29</td>\n",
       "      <td>2016-04-29</td>\n",
       "      <td>56</td>\n",
       "      <td>JARDIM DA PENHA</td>\n",
       "      <td>0</td>\n",
       "      <td>0</td>\n",
       "      <td>0</td>\n",
       "      <td>...</td>\n",
       "      <td>0</td>\n",
       "      <td>1</td>\n",
       "      <td>16</td>\n",
       "      <td>00:00:00</td>\n",
       "      <td>Friday</td>\n",
       "      <td>April</td>\n",
       "      <td>0</td>\n",
       "      <td>0.818297</td>\n",
       "      <td>-0.667572</td>\n",
       "      <td>1.624742</td>\n",
       "    </tr>\n",
       "    <tr>\n",
       "      <th>2</th>\n",
       "      <td>4262962299951</td>\n",
       "      <td>5642549</td>\n",
       "      <td>0</td>\n",
       "      <td>2016-04-29</td>\n",
       "      <td>2016-04-29</td>\n",
       "      <td>62</td>\n",
       "      <td>MATA DA PRAIA</td>\n",
       "      <td>0</td>\n",
       "      <td>0</td>\n",
       "      <td>0</td>\n",
       "      <td>...</td>\n",
       "      <td>0</td>\n",
       "      <td>1</td>\n",
       "      <td>16</td>\n",
       "      <td>00:00:00</td>\n",
       "      <td>Friday</td>\n",
       "      <td>April</td>\n",
       "      <td>0</td>\n",
       "      <td>1.077926</td>\n",
       "      <td>-0.667572</td>\n",
       "      <td>1.624742</td>\n",
       "    </tr>\n",
       "  </tbody>\n",
       "</table>\n",
       "<p>3 rows × 22 columns</p>\n",
       "</div>"
      ],
      "text/plain": [
       "         PatientId  AppointmentID  IsMale ScheduledDay AppointmentDay  Age  \\\n",
       "0   29872499824296        5642903       0   2016-04-29     2016-04-29   62   \n",
       "1  558997776694438        5642503       1   2016-04-29     2016-04-29   56   \n",
       "2    4262962299951        5642549       0   2016-04-29     2016-04-29   62   \n",
       "\n",
       "     Neighbourhood  Scholarship  Hipertension  Diabetes  ...  SMS_received  \\\n",
       "0  JARDIM DA PENHA            0             1         0  ...             0   \n",
       "1  JARDIM DA PENHA            0             0         0  ...             0   \n",
       "2    MATA DA PRAIA            0             0         0  ...             0   \n",
       "\n",
       "   Show  ScheduledHour  AppointmentTime  AppointmentWeekDay AppointmentMonth  \\\n",
       "0     1             18         00:00:00              Friday            April   \n",
       "1     1             16         00:00:00              Friday            April   \n",
       "2     1             16         00:00:00              Friday            April   \n",
       "\n",
       "  WaitingDays AgeScaled  WaitingDaysScaled  ScheduledHourScaled  \n",
       "0           0  1.077926          -0.667572             2.246598  \n",
       "1           0  0.818297          -0.667572             1.624742  \n",
       "2           0  1.077926          -0.667572             1.624742  \n",
       "\n",
       "[3 rows x 22 columns]"
      ]
     },
     "execution_count": 245,
     "metadata": {},
     "output_type": "execute_result"
    }
   ],
   "source": [
    "df.head(3)"
   ]
  },
  {
   "cell_type": "code",
   "execution_count": 246,
   "metadata": {},
   "outputs": [
    {
     "data": {
      "text/plain": [
       "1"
      ]
     },
     "execution_count": 246,
     "metadata": {},
     "output_type": "execute_result"
    }
   ],
   "source": [
    "# \"AppointmentTime\" seems same in each rows.\n",
    "# Is it really same in all dataset?\n",
    "\n",
    "df.AppointmentTime.nunique()"
   ]
  },
  {
   "cell_type": "code",
   "execution_count": 247,
   "metadata": {},
   "outputs": [],
   "source": [
    "# \"AppointmentTime\" has only one unique value.\n",
    "# Drop the \"AppointmentTime\" column\n",
    "\n",
    "df.drop(columns='AppointmentTime',inplace=True)"
   ]
  },
  {
   "cell_type": "code",
   "execution_count": 248,
   "metadata": {},
   "outputs": [
    {
     "data": {
      "text/html": [
       "<div>\n",
       "<style scoped>\n",
       "    .dataframe tbody tr th:only-of-type {\n",
       "        vertical-align: middle;\n",
       "    }\n",
       "\n",
       "    .dataframe tbody tr th {\n",
       "        vertical-align: top;\n",
       "    }\n",
       "\n",
       "    .dataframe thead th {\n",
       "        text-align: right;\n",
       "    }\n",
       "</style>\n",
       "<table border=\"1\" class=\"dataframe\">\n",
       "  <thead>\n",
       "    <tr style=\"text-align: right;\">\n",
       "      <th></th>\n",
       "      <th>PatientId</th>\n",
       "      <th>AppointmentID</th>\n",
       "      <th>IsMale</th>\n",
       "      <th>ScheduledDay</th>\n",
       "      <th>AppointmentDay</th>\n",
       "      <th>Age</th>\n",
       "      <th>Neighbourhood</th>\n",
       "      <th>Scholarship</th>\n",
       "      <th>Hipertension</th>\n",
       "      <th>Diabetes</th>\n",
       "      <th>...</th>\n",
       "      <th>Handcap</th>\n",
       "      <th>SMS_received</th>\n",
       "      <th>Show</th>\n",
       "      <th>ScheduledHour</th>\n",
       "      <th>AppointmentWeekDay</th>\n",
       "      <th>AppointmentMonth</th>\n",
       "      <th>WaitingDays</th>\n",
       "      <th>AgeScaled</th>\n",
       "      <th>WaitingDaysScaled</th>\n",
       "      <th>ScheduledHourScaled</th>\n",
       "    </tr>\n",
       "  </thead>\n",
       "  <tbody>\n",
       "    <tr>\n",
       "      <th>27033</th>\n",
       "      <td>7839272661752</td>\n",
       "      <td>5679978</td>\n",
       "      <td>1</td>\n",
       "      <td>2016-05-10</td>\n",
       "      <td>2016-05-09</td>\n",
       "      <td>38</td>\n",
       "      <td>RESISTÊNCIA</td>\n",
       "      <td>0</td>\n",
       "      <td>0</td>\n",
       "      <td>0</td>\n",
       "      <td>...</td>\n",
       "      <td>1</td>\n",
       "      <td>0</td>\n",
       "      <td>0</td>\n",
       "      <td>10</td>\n",
       "      <td>Monday</td>\n",
       "      <td>May</td>\n",
       "      <td>-1</td>\n",
       "      <td>0.039411</td>\n",
       "      <td>-0.733125</td>\n",
       "      <td>-0.240827</td>\n",
       "    </tr>\n",
       "    <tr>\n",
       "      <th>55226</th>\n",
       "      <td>7896293967868</td>\n",
       "      <td>5715660</td>\n",
       "      <td>0</td>\n",
       "      <td>2016-05-18</td>\n",
       "      <td>2016-05-17</td>\n",
       "      <td>19</td>\n",
       "      <td>SANTO ANTÔNIO</td>\n",
       "      <td>0</td>\n",
       "      <td>0</td>\n",
       "      <td>0</td>\n",
       "      <td>...</td>\n",
       "      <td>1</td>\n",
       "      <td>0</td>\n",
       "      <td>0</td>\n",
       "      <td>14</td>\n",
       "      <td>Tuesday</td>\n",
       "      <td>May</td>\n",
       "      <td>-1</td>\n",
       "      <td>-0.782747</td>\n",
       "      <td>-0.733125</td>\n",
       "      <td>1.002886</td>\n",
       "    </tr>\n",
       "    <tr>\n",
       "      <th>64175</th>\n",
       "      <td>24252258389979</td>\n",
       "      <td>5664962</td>\n",
       "      <td>0</td>\n",
       "      <td>2016-05-05</td>\n",
       "      <td>2016-05-04</td>\n",
       "      <td>22</td>\n",
       "      <td>CONSOLAÇÃO</td>\n",
       "      <td>0</td>\n",
       "      <td>0</td>\n",
       "      <td>0</td>\n",
       "      <td>...</td>\n",
       "      <td>0</td>\n",
       "      <td>0</td>\n",
       "      <td>0</td>\n",
       "      <td>13</td>\n",
       "      <td>Wednesday</td>\n",
       "      <td>May</td>\n",
       "      <td>-1</td>\n",
       "      <td>-0.652933</td>\n",
       "      <td>-0.733125</td>\n",
       "      <td>0.691957</td>\n",
       "    </tr>\n",
       "    <tr>\n",
       "      <th>71533</th>\n",
       "      <td>998231581612122</td>\n",
       "      <td>5686628</td>\n",
       "      <td>0</td>\n",
       "      <td>2016-05-11</td>\n",
       "      <td>2016-05-05</td>\n",
       "      <td>81</td>\n",
       "      <td>SANTO ANTÔNIO</td>\n",
       "      <td>0</td>\n",
       "      <td>0</td>\n",
       "      <td>0</td>\n",
       "      <td>...</td>\n",
       "      <td>0</td>\n",
       "      <td>0</td>\n",
       "      <td>0</td>\n",
       "      <td>13</td>\n",
       "      <td>Thursday</td>\n",
       "      <td>May</td>\n",
       "      <td>-6</td>\n",
       "      <td>1.900084</td>\n",
       "      <td>-1.060887</td>\n",
       "      <td>0.691957</td>\n",
       "    </tr>\n",
       "    <tr>\n",
       "      <th>72362</th>\n",
       "      <td>3787481966821</td>\n",
       "      <td>5655637</td>\n",
       "      <td>1</td>\n",
       "      <td>2016-05-04</td>\n",
       "      <td>2016-05-03</td>\n",
       "      <td>7</td>\n",
       "      <td>TABUAZEIRO</td>\n",
       "      <td>0</td>\n",
       "      <td>0</td>\n",
       "      <td>0</td>\n",
       "      <td>...</td>\n",
       "      <td>0</td>\n",
       "      <td>0</td>\n",
       "      <td>0</td>\n",
       "      <td>6</td>\n",
       "      <td>Tuesday</td>\n",
       "      <td>May</td>\n",
       "      <td>-1</td>\n",
       "      <td>-1.302004</td>\n",
       "      <td>-0.733125</td>\n",
       "      <td>-1.484539</td>\n",
       "    </tr>\n",
       "  </tbody>\n",
       "</table>\n",
       "<p>5 rows × 21 columns</p>\n",
       "</div>"
      ],
      "text/plain": [
       "             PatientId  AppointmentID  IsMale ScheduledDay AppointmentDay  \\\n",
       "27033    7839272661752        5679978       1   2016-05-10     2016-05-09   \n",
       "55226    7896293967868        5715660       0   2016-05-18     2016-05-17   \n",
       "64175   24252258389979        5664962       0   2016-05-05     2016-05-04   \n",
       "71533  998231581612122        5686628       0   2016-05-11     2016-05-05   \n",
       "72362    3787481966821        5655637       1   2016-05-04     2016-05-03   \n",
       "\n",
       "       Age  Neighbourhood  Scholarship  Hipertension  Diabetes  ...  Handcap  \\\n",
       "27033   38    RESISTÊNCIA            0             0         0  ...        1   \n",
       "55226   19  SANTO ANTÔNIO            0             0         0  ...        1   \n",
       "64175   22     CONSOLAÇÃO            0             0         0  ...        0   \n",
       "71533   81  SANTO ANTÔNIO            0             0         0  ...        0   \n",
       "72362    7     TABUAZEIRO            0             0         0  ...        0   \n",
       "\n",
       "       SMS_received  Show  ScheduledHour  AppointmentWeekDay AppointmentMonth  \\\n",
       "27033             0     0             10              Monday              May   \n",
       "55226             0     0             14             Tuesday              May   \n",
       "64175             0     0             13           Wednesday              May   \n",
       "71533             0     0             13            Thursday              May   \n",
       "72362             0     0              6             Tuesday              May   \n",
       "\n",
       "      WaitingDays  AgeScaled  WaitingDaysScaled  ScheduledHourScaled  \n",
       "27033          -1   0.039411          -0.733125            -0.240827  \n",
       "55226          -1  -0.782747          -0.733125             1.002886  \n",
       "64175          -1  -0.652933          -0.733125             0.691957  \n",
       "71533          -6   1.900084          -1.060887             0.691957  \n",
       "72362          -1  -1.302004          -0.733125            -1.484539  \n",
       "\n",
       "[5 rows x 21 columns]"
      ]
     },
     "execution_count": 248,
     "metadata": {},
     "output_type": "execute_result"
    }
   ],
   "source": [
    "# Control for \"Is there any scheduled day after appointment day?\" question.\n",
    "# As you know, this is impossible.\n",
    "\n",
    "df_error = df[df.ScheduledDay > df.AppointmentDay]\n",
    "df_error"
   ]
  },
  {
   "cell_type": "code",
   "execution_count": 249,
   "metadata": {},
   "outputs": [],
   "source": [
    "# Remove this rows from dataset\n",
    "\n",
    "df = df[~(df.ScheduledDay > df.AppointmentDay)]"
   ]
  },
  {
   "cell_type": "code",
   "execution_count": 250,
   "metadata": {},
   "outputs": [
    {
     "data": {
      "text/plain": [
       "0"
      ]
     },
     "execution_count": 250,
     "metadata": {},
     "output_type": "execute_result"
    }
   ],
   "source": [
    "# Check duplicates\n",
    "\n",
    "df.duplicated().sum()"
   ]
  },
  {
   "cell_type": "code",
   "execution_count": 251,
   "metadata": {},
   "outputs": [],
   "source": [
    "# Rename some columns for easier coding\n",
    "\n",
    "labels = {'PatientId':'PatientID', 'Hipertension':'Hypertension',\n",
    "          'Handcap':'Handicap', 'SMS_received':'SMSreceived'}\n",
    "df.rename(columns=labels,inplace=True)"
   ]
  },
  {
   "cell_type": "code",
   "execution_count": 252,
   "metadata": {},
   "outputs": [
    {
     "data": {
      "text/html": [
       "<div>\n",
       "<style scoped>\n",
       "    .dataframe tbody tr th:only-of-type {\n",
       "        vertical-align: middle;\n",
       "    }\n",
       "\n",
       "    .dataframe tbody tr th {\n",
       "        vertical-align: top;\n",
       "    }\n",
       "\n",
       "    .dataframe thead th {\n",
       "        text-align: right;\n",
       "    }\n",
       "</style>\n",
       "<table border=\"1\" class=\"dataframe\">\n",
       "  <thead>\n",
       "    <tr style=\"text-align: right;\">\n",
       "      <th></th>\n",
       "      <th>PatientID</th>\n",
       "      <th>AppointmentID</th>\n",
       "      <th>IsMale</th>\n",
       "      <th>ScheduledDay</th>\n",
       "      <th>AppointmentDay</th>\n",
       "      <th>Age</th>\n",
       "      <th>Neighbourhood</th>\n",
       "      <th>Scholarship</th>\n",
       "      <th>Hypertension</th>\n",
       "      <th>Diabetes</th>\n",
       "      <th>...</th>\n",
       "      <th>Handicap</th>\n",
       "      <th>SMSreceived</th>\n",
       "      <th>Show</th>\n",
       "      <th>ScheduledHour</th>\n",
       "      <th>AppointmentWeekDay</th>\n",
       "      <th>AppointmentMonth</th>\n",
       "      <th>WaitingDays</th>\n",
       "      <th>AgeScaled</th>\n",
       "      <th>WaitingDaysScaled</th>\n",
       "      <th>ScheduledHourScaled</th>\n",
       "    </tr>\n",
       "  </thead>\n",
       "  <tbody>\n",
       "    <tr>\n",
       "      <th>108261</th>\n",
       "      <td>925649958641</td>\n",
       "      <td>5622870</td>\n",
       "      <td>1</td>\n",
       "      <td>2016-04-26</td>\n",
       "      <td>2016-06-08</td>\n",
       "      <td>16</td>\n",
       "      <td>CRUZAMENTO</td>\n",
       "      <td>0</td>\n",
       "      <td>0</td>\n",
       "      <td>0</td>\n",
       "      <td>...</td>\n",
       "      <td>0</td>\n",
       "      <td>0</td>\n",
       "      <td>1</td>\n",
       "      <td>13</td>\n",
       "      <td>Wednesday</td>\n",
       "      <td>June</td>\n",
       "      <td>43</td>\n",
       "      <td>-0.912561</td>\n",
       "      <td>2.151182</td>\n",
       "      <td>0.691957</td>\n",
       "    </tr>\n",
       "    <tr>\n",
       "      <th>21017</th>\n",
       "      <td>38596821254475</td>\n",
       "      <td>5652589</td>\n",
       "      <td>0</td>\n",
       "      <td>2016-05-03</td>\n",
       "      <td>2016-05-16</td>\n",
       "      <td>33</td>\n",
       "      <td>GOIABEIRAS</td>\n",
       "      <td>0</td>\n",
       "      <td>0</td>\n",
       "      <td>0</td>\n",
       "      <td>...</td>\n",
       "      <td>0</td>\n",
       "      <td>0</td>\n",
       "      <td>1</td>\n",
       "      <td>10</td>\n",
       "      <td>Monday</td>\n",
       "      <td>May</td>\n",
       "      <td>13</td>\n",
       "      <td>-0.176946</td>\n",
       "      <td>0.184609</td>\n",
       "      <td>-0.240827</td>\n",
       "    </tr>\n",
       "    <tr>\n",
       "      <th>3655</th>\n",
       "      <td>838284762259</td>\n",
       "      <td>5640434</td>\n",
       "      <td>0</td>\n",
       "      <td>2016-04-29</td>\n",
       "      <td>2016-05-11</td>\n",
       "      <td>36</td>\n",
       "      <td>RESISTÊNCIA</td>\n",
       "      <td>1</td>\n",
       "      <td>0</td>\n",
       "      <td>0</td>\n",
       "      <td>...</td>\n",
       "      <td>0</td>\n",
       "      <td>0</td>\n",
       "      <td>1</td>\n",
       "      <td>10</td>\n",
       "      <td>Wednesday</td>\n",
       "      <td>May</td>\n",
       "      <td>12</td>\n",
       "      <td>-0.047132</td>\n",
       "      <td>0.119057</td>\n",
       "      <td>-0.240827</td>\n",
       "    </tr>\n",
       "  </tbody>\n",
       "</table>\n",
       "<p>3 rows × 21 columns</p>\n",
       "</div>"
      ],
      "text/plain": [
       "             PatientID  AppointmentID  IsMale ScheduledDay AppointmentDay  \\\n",
       "108261    925649958641        5622870       1   2016-04-26     2016-06-08   \n",
       "21017   38596821254475        5652589       0   2016-05-03     2016-05-16   \n",
       "3655      838284762259        5640434       0   2016-04-29     2016-05-11   \n",
       "\n",
       "        Age Neighbourhood  Scholarship  Hypertension  Diabetes  ...  Handicap  \\\n",
       "108261   16    CRUZAMENTO            0             0         0  ...         0   \n",
       "21017    33    GOIABEIRAS            0             0         0  ...         0   \n",
       "3655     36   RESISTÊNCIA            1             0         0  ...         0   \n",
       "\n",
       "        SMSreceived  Show  ScheduledHour  AppointmentWeekDay AppointmentMonth  \\\n",
       "108261            0     1             13           Wednesday             June   \n",
       "21017             0     1             10              Monday              May   \n",
       "3655              0     1             10           Wednesday              May   \n",
       "\n",
       "       WaitingDays  AgeScaled  WaitingDaysScaled  ScheduledHourScaled  \n",
       "108261          43  -0.912561           2.151182             0.691957  \n",
       "21017           13  -0.176946           0.184609            -0.240827  \n",
       "3655            12  -0.047132           0.119057            -0.240827  \n",
       "\n",
       "[3 rows x 21 columns]"
      ]
     },
     "execution_count": 252,
     "metadata": {},
     "output_type": "execute_result"
    }
   ],
   "source": [
    "df.sample(3)"
   ]
  },
  {
   "cell_type": "markdown",
   "metadata": {},
   "source": [
    "# Exploratory Data Analysis"
   ]
  },
  {
   "cell_type": "code",
   "execution_count": 253,
   "metadata": {},
   "outputs": [
    {
     "data": {
      "image/png": "[encoded data removed]",
      "text/plain": [
       "<Figure size 504x504 with 2 Axes>"
      ]
     },
     "metadata": {
      "needs_background": "light"
     },
     "output_type": "display_data"
    }
   ],
   "source": [
    "# Correlation of values with each other\n",
    "correlation = df.corr()\n",
    "fig, axes = plt.subplots(figsize=(7,7))\n",
    "sns.heatmap(correlation, vmax=.8, cbar=True, annot=True, square=True, fmt='.2f', annot_kws={'size': 10});"
   ]
  },
  {
   "cell_type": "markdown",
   "metadata": {},
   "source": [
    "Heatmap shows three correlations:\n",
    "\n",
    "1. Hypertension-Age\n",
    "2. Hypertension-Diabetes\n",
    "3. Diabetes-Age\n",
    "\n",
    "These are medically expected results.\n",
    "\n",
    "There is no strong correlation between any feature with no-show."
   ]
  },
  {
   "cell_type": "code",
   "execution_count": 254,
   "metadata": {},
   "outputs": [
    {
     "name": "stderr",
     "output_type": "stream",
     "text": [
      "C:\\Users\\TCSYAYLI\\Anaconda3\\lib\\site-packages\\seaborn\\distributions.py:2619: FutureWarning: `distplot` is a deprecated function and will be removed in a future version. Please adapt your code to use either `displot` (a figure-level function with similar flexibility) or `histplot` (an axes-level function for histograms).\n",
      "  warnings.warn(msg, FutureWarning)\n"
     ]
    },
    {
     "data": {
      "image/png": "[encoded data removed]",
      "text/plain": [
       "<Figure size 720x360 with 1 Axes>"
      ]
     },
     "metadata": {
      "needs_background": "light"
     },
     "output_type": "display_data"
    }
   ],
   "source": [
    "# Visualize age and missing appointment correlation.\n",
    "plt.figure(figsize=(10, 5))\n",
    "\n",
    "sns.distplot(df[df['Show'] == 1][\"Age\"], bins=max(df['Age']), kde=False)\n",
    "sns.distplot(df[df['Show'] == 0][\"Age\"], bins=max(df['Age']), color='red', kde=False)\n",
    "\n",
    "plt.title('Age Distribution and Missing Appointment Status by Age', fontsize=15)\n",
    "plt.xlim([min(df['Age']),max(df['Age'])])\n",
    "plt.show()"
   ]
  },
  {
   "cell_type": "code",
   "execution_count": 255,
   "metadata": {},
   "outputs": [
    {
     "name": "stderr",
     "output_type": "stream",
     "text": [
      "C:\\Users\\TCSYAYLI\\Anaconda3\\lib\\site-packages\\seaborn\\distributions.py:2619: FutureWarning: `distplot` is a deprecated function and will be removed in a future version. Please adapt your code to use either `displot` (a figure-level function with similar flexibility) or `histplot` (an axes-level function for histograms).\n",
      "  warnings.warn(msg, FutureWarning)\n"
     ]
    },
    {
     "data": {
      "image/png": "[encoded data removed]",
      "text/plain": [
       "<Figure size 720x360 with 1 Axes>"
      ]
     },
     "metadata": {
      "needs_background": "light"
     },
     "output_type": "display_data"
    }
   ],
   "source": [
    "# Visualize age and stroke correlation\n",
    "plt.figure(figsize=(10, 5))\n",
    "\n",
    "sns.distplot(df[df['Show'] == 0][\"Age\"], bins=max(df['Age']), kde=True)\n",
    "sns.distplot(df[df['Show'] == 1][\"Age\"], bins=max(df['Age']), color='red', kde=True)\n",
    "\n",
    "plt.title('Age Distributions in Stroke Negative vs Stroke Positinve Patient Groups', fontsize=15)\n",
    "plt.xlim([min(df['Age']),max(df['Age'])])\n",
    "plt.show()"
   ]
  },
  {
   "cell_type": "markdown",
   "metadata": {},
   "source": [
    "* Missing ratio increases between 10-30 age group."
   ]
  },
  {
   "cell_type": "code",
   "execution_count": 256,
   "metadata": {},
   "outputs": [
    {
     "data": {
      "image/png": "[encoded data removed]",
      "text/plain": [
       "<Figure size 864x288 with 3 Axes>"
      ]
     },
     "metadata": {
      "needs_background": "light"
     },
     "output_type": "display_data"
    }
   ],
   "source": [
    "fig, (ax1, ax2, ax3) = plt.subplots(ncols=3, sharey=True)\n",
    "sns.countplot(x='IsMale', data=df, hue='Show', ax=ax1, palette='magma');\n",
    "sns.countplot(x='SMSreceived', data=df, hue='Show', ax=ax2, palette='magma');\n",
    "sns.countplot(x='Scholarship', data=df, hue='Show', ax=ax3, palette='magma');\n",
    "fig.set_figwidth(12)\n",
    "fig.set_figheight(4)"
   ]
  },
  {
   "cell_type": "markdown",
   "metadata": {},
   "source": [
    "* Females make appointments more than males.\n",
    "* Suprisingly, no-show ratio is high in SMS received group than un-received group."
   ]
  },
  {
   "cell_type": "code",
   "execution_count": 257,
   "metadata": {},
   "outputs": [
    {
     "data": {
      "image/png": "[encoded data removed]",
      "text/plain": [
       "<Figure size 864x288 with 3 Axes>"
      ]
     },
     "metadata": {
      "needs_background": "light"
     },
     "output_type": "display_data"
    }
   ],
   "source": [
    "fig, (ax1, ax2, ax3) = plt.subplots(ncols=3, sharey=True)\n",
    "sns.countplot(x='Hypertension', data=df, hue='Show', ax=ax1, palette='magma');\n",
    "sns.countplot(x='Diabetes', data=df, hue='Show', ax=ax2, palette='magma');\n",
    "sns.countplot(x='Alcoholism', data=df, hue='Show', ax=ax3, palette='magma');\n",
    "fig.set_figwidth(12)\n",
    "fig.set_figheight(4)"
   ]
  },
  {
   "cell_type": "markdown",
   "metadata": {},
   "source": [
    "* It is rare for patients with hypertension to not go to an appointment.\n",
    "* The graphs above show that hypertension is more common than diabetes in the patients participating in the study. "
   ]
  },
  {
   "cell_type": "code",
   "execution_count": 258,
   "metadata": {},
   "outputs": [
    {
     "data": {
      "image/png": "[encoded data removed]",
      "text/plain": [
       "<Figure size 1080x360 with 2 Axes>"
      ]
     },
     "metadata": {
      "needs_background": "light"
     },
     "output_type": "display_data"
    }
   ],
   "source": [
    "# Handicap and Show relationship\n",
    "fig, (ax1, ax2) = plt.subplots(ncols=2, sharey=False)\n",
    "sns.countplot(x='Handicap', data=df, hue='Show', ax=ax1, palette='magma')\n",
    "sns.countplot(x='Handicap', data=df[-(df.Handicap == 0)], hue='Show', ax=ax2, palette='magma')\n",
    "fig.set_figwidth(15)\n",
    "fig.set_figheight(5)"
   ]
  },
  {
   "cell_type": "code",
   "execution_count": 259,
   "metadata": {},
   "outputs": [
    {
     "data": {
      "text/html": [
       "<div>\n",
       "<style scoped>\n",
       "    .dataframe tbody tr th:only-of-type {\n",
       "        vertical-align: middle;\n",
       "    }\n",
       "\n",
       "    .dataframe tbody tr th {\n",
       "        vertical-align: top;\n",
       "    }\n",
       "\n",
       "    .dataframe thead th {\n",
       "        text-align: right;\n",
       "    }\n",
       "</style>\n",
       "<table border=\"1\" class=\"dataframe\">\n",
       "  <thead>\n",
       "    <tr style=\"text-align: right;\">\n",
       "      <th></th>\n",
       "      <th>Handicap</th>\n",
       "      <th>total_dow</th>\n",
       "      <th>show_dow</th>\n",
       "      <th>show_prop</th>\n",
       "    </tr>\n",
       "  </thead>\n",
       "  <tbody>\n",
       "    <tr>\n",
       "      <th>0</th>\n",
       "      <td>0</td>\n",
       "      <td>108282</td>\n",
       "      <td>86373</td>\n",
       "      <td>0.797667</td>\n",
       "    </tr>\n",
       "    <tr>\n",
       "      <th>1</th>\n",
       "      <td>1</td>\n",
       "      <td>2040</td>\n",
       "      <td>1676</td>\n",
       "      <td>0.821569</td>\n",
       "    </tr>\n",
       "    <tr>\n",
       "      <th>2</th>\n",
       "      <td>2</td>\n",
       "      <td>183</td>\n",
       "      <td>146</td>\n",
       "      <td>0.797814</td>\n",
       "    </tr>\n",
       "    <tr>\n",
       "      <th>3</th>\n",
       "      <td>3</td>\n",
       "      <td>13</td>\n",
       "      <td>10</td>\n",
       "      <td>0.769231</td>\n",
       "    </tr>\n",
       "    <tr>\n",
       "      <th>4</th>\n",
       "      <td>4</td>\n",
       "      <td>3</td>\n",
       "      <td>2</td>\n",
       "      <td>0.666667</td>\n",
       "    </tr>\n",
       "  </tbody>\n",
       "</table>\n",
       "</div>"
      ],
      "text/plain": [
       "   Handicap  total_dow  show_dow  show_prop\n",
       "0         0     108282     86373   0.797667\n",
       "1         1       2040      1676   0.821569\n",
       "2         2        183       146   0.797814\n",
       "3         3         13        10   0.769231\n",
       "4         4          3         2   0.666667"
      ]
     },
     "execution_count": 259,
     "metadata": {},
     "output_type": "execute_result"
    }
   ],
   "source": [
    "# Analyze the handicap\n",
    "\n",
    "#Create empty dataframe\n",
    "handicap = pd.DataFrame()\n",
    "\n",
    "handicap['total_dow'] = df.groupby('Handicap').Show.count()\n",
    "handicap['show_dow'] = df.groupby('Handicap').Show.sum()\n",
    "handicap['show_prop'] = df.groupby('Handicap').Show.mean()\n",
    "handicap.reset_index(inplace=True)\n",
    "\n",
    "handicap"
   ]
  },
  {
   "cell_type": "markdown",
   "metadata": {},
   "source": [
    "* Most of the appointments were taken by individuals without disabilities. \n",
    "* Most common handicap is 1 and, 3-4 are very rare.\n",
    "* Handicap 4 misses appointments the most."
   ]
  },
  {
   "cell_type": "code",
   "execution_count": 260,
   "metadata": {},
   "outputs": [
    {
     "data": {
      "image/png": "[encoded data removed]",
      "text/plain": [
       "<Figure size 432x288 with 1 Axes>"
      ]
     },
     "metadata": {
      "needs_background": "light"
     },
     "output_type": "display_data"
    }
   ],
   "source": [
    "# AppointmentWeekDay and Show relationship\n",
    "sns.countplot(x='AppointmentWeekDay', data=df, hue='Show', palette='magma')\n",
    "fig.set_figwidth(15)\n",
    "fig.set_figheight(5)"
   ]
  },
  {
   "cell_type": "code",
   "execution_count": 261,
   "metadata": {},
   "outputs": [
    {
     "data": {
      "image/png": "[encoded data removed]",
      "text/plain": [
       "<Figure size 432x288 with 1 Axes>"
      ]
     },
     "metadata": {
      "needs_background": "light"
     },
     "output_type": "display_data"
    }
   ],
   "source": [
    "# ScheduledHour and Show relationship\n",
    "sns.countplot(x='ScheduledHour', data=df, hue='Show', palette='magma')\n",
    "fig.set_figwidth(15)\n",
    "fig.set_figheight(5)"
   ]
  },
  {
   "cell_type": "code",
   "execution_count": 262,
   "metadata": {},
   "outputs": [
    {
     "name": "stderr",
     "output_type": "stream",
     "text": [
      "C:\\Users\\TCSYAYLI\\Anaconda3\\lib\\site-packages\\seaborn\\distributions.py:2619: FutureWarning: `distplot` is a deprecated function and will be removed in a future version. Please adapt your code to use either `displot` (a figure-level function with similar flexibility) or `histplot` (an axes-level function for histograms).\n",
      "  warnings.warn(msg, FutureWarning)\n",
      "C:\\Users\\TCSYAYLI\\Anaconda3\\lib\\site-packages\\seaborn\\distributions.py:2619: FutureWarning: `distplot` is a deprecated function and will be removed in a future version. Please adapt your code to use either `displot` (a figure-level function with similar flexibility) or `histplot` (an axes-level function for histograms).\n",
      "  warnings.warn(msg, FutureWarning)\n"
     ]
    },
    {
     "data": {
      "image/png": "[encoded data removed]",
      "text/plain": [
       "<Figure size 720x360 with 1 Axes>"
      ]
     },
     "metadata": {
      "needs_background": "light"
     },
     "output_type": "display_data"
    }
   ],
   "source": [
    "# Visualize ScheduledHour and Show correlation\n",
    "plt.figure(figsize=(10, 5))\n",
    "\n",
    "sns.distplot(df[df['Show'] == 0][\"ScheduledHour\"], bins=max(df['ScheduledHour']), kde=True)\n",
    "sns.distplot(df[df['Show'] == 1][\"ScheduledHour\"], bins=max(df['ScheduledHour']), color='red', kde=True)\n",
    "\n",
    "plt.title('ScheduledHour Distributions in Show Status', fontsize=15)\n",
    "plt.xlim([min(df['ScheduledHour']),max(df['ScheduledHour'])])\n",
    "plt.show()"
   ]
  },
  {
   "cell_type": "markdown",
   "metadata": {},
   "source": [
    "The ratio not much differs between two groups"
   ]
  },
  {
   "cell_type": "code",
   "execution_count": 263,
   "metadata": {},
   "outputs": [
    {
     "data": {
      "text/html": [
       "<div>\n",
       "<style scoped>\n",
       "    .dataframe tbody tr th:only-of-type {\n",
       "        vertical-align: middle;\n",
       "    }\n",
       "\n",
       "    .dataframe tbody tr th {\n",
       "        vertical-align: top;\n",
       "    }\n",
       "\n",
       "    .dataframe thead th {\n",
       "        text-align: right;\n",
       "    }\n",
       "</style>\n",
       "<table border=\"1\" class=\"dataframe\">\n",
       "  <thead>\n",
       "    <tr style=\"text-align: right;\">\n",
       "      <th></th>\n",
       "      <th>AppointmentWeekDay</th>\n",
       "      <th>total_dow</th>\n",
       "      <th>show_dow</th>\n",
       "      <th>show_prop</th>\n",
       "    </tr>\n",
       "  </thead>\n",
       "  <tbody>\n",
       "    <tr>\n",
       "      <th>0</th>\n",
       "      <td>Friday</td>\n",
       "      <td>19019</td>\n",
       "      <td>14982</td>\n",
       "      <td>0.787739</td>\n",
       "    </tr>\n",
       "    <tr>\n",
       "      <th>1</th>\n",
       "      <td>Monday</td>\n",
       "      <td>22713</td>\n",
       "      <td>18024</td>\n",
       "      <td>0.793554</td>\n",
       "    </tr>\n",
       "    <tr>\n",
       "      <th>2</th>\n",
       "      <td>Saturday</td>\n",
       "      <td>39</td>\n",
       "      <td>30</td>\n",
       "      <td>0.769231</td>\n",
       "    </tr>\n",
       "    <tr>\n",
       "      <th>3</th>\n",
       "      <td>Thursday</td>\n",
       "      <td>17246</td>\n",
       "      <td>13909</td>\n",
       "      <td>0.806506</td>\n",
       "    </tr>\n",
       "    <tr>\n",
       "      <th>4</th>\n",
       "      <td>Tuesday</td>\n",
       "      <td>25638</td>\n",
       "      <td>20488</td>\n",
       "      <td>0.799126</td>\n",
       "    </tr>\n",
       "    <tr>\n",
       "      <th>5</th>\n",
       "      <td>Wednesday</td>\n",
       "      <td>25866</td>\n",
       "      <td>20774</td>\n",
       "      <td>0.803139</td>\n",
       "    </tr>\n",
       "  </tbody>\n",
       "</table>\n",
       "</div>"
      ],
      "text/plain": [
       "  AppointmentWeekDay  total_dow  show_dow  show_prop\n",
       "0             Friday      19019     14982   0.787739\n",
       "1             Monday      22713     18024   0.793554\n",
       "2           Saturday         39        30   0.769231\n",
       "3           Thursday      17246     13909   0.806506\n",
       "4            Tuesday      25638     20488   0.799126\n",
       "5          Wednesday      25866     20774   0.803139"
      ]
     },
     "execution_count": 263,
     "metadata": {},
     "output_type": "execute_result"
    }
   ],
   "source": [
    "# Analyze the week of days\n",
    "\n",
    "#Create empty dataframe\n",
    "appointment_day_of_week = pd.DataFrame()\n",
    "\n",
    "appointment_day_of_week['total_dow'] = df.groupby('AppointmentWeekDay').Show.count()\n",
    "appointment_day_of_week['show_dow'] = df.groupby('AppointmentWeekDay').Show.sum()\n",
    "appointment_day_of_week['show_prop'] = df.groupby('AppointmentWeekDay').Show.mean()\n",
    "appointment_day_of_week.reset_index(inplace=True)\n",
    "\n",
    "appointment_day_of_week"
   ]
  },
  {
   "cell_type": "markdown",
   "metadata": {},
   "source": [
    "* Appointments are less on Friday.\n",
    "* No significant difference on weekdays for missing appointment."
   ]
  },
  {
   "cell_type": "code",
   "execution_count": 264,
   "metadata": {},
   "outputs": [
    {
     "data": {
      "image/png": "[encoded data removed]",
      "text/plain": [
       "<Figure size 432x288 with 1 Axes>"
      ]
     },
     "metadata": {
      "needs_background": "light"
     },
     "output_type": "display_data"
    }
   ],
   "source": [
    "# AppointmentMonth and Show relationship\n",
    "sns.countplot(x='AppointmentMonth', data=df, hue='Show', palette='magma')\n",
    "fig.set_figwidth(15)\n",
    "fig.set_figheight(5)"
   ]
  },
  {
   "cell_type": "markdown",
   "metadata": {},
   "source": [
    "* Data collected between end of the April and beginning of the May. this chart does not give information in terms of the difference between the months."
   ]
  },
  {
   "cell_type": "code",
   "execution_count": 265,
   "metadata": {},
   "outputs": [
    {
     "name": "stderr",
     "output_type": "stream",
     "text": [
      "C:\\Users\\TCSYAYLI\\Anaconda3\\lib\\site-packages\\seaborn\\distributions.py:2619: FutureWarning: `distplot` is a deprecated function and will be removed in a future version. Please adapt your code to use either `displot` (a figure-level function with similar flexibility) or `histplot` (an axes-level function for histograms).\n",
      "  warnings.warn(msg, FutureWarning)\n",
      "C:\\Users\\TCSYAYLI\\Anaconda3\\lib\\site-packages\\seaborn\\distributions.py:2619: FutureWarning: `distplot` is a deprecated function and will be removed in a future version. Please adapt your code to use either `displot` (a figure-level function with similar flexibility) or `histplot` (an axes-level function for histograms).\n",
      "  warnings.warn(msg, FutureWarning)\n"
     ]
    },
    {
     "data": {
      "image/png": "[encoded data removed]",
      "text/plain": [
       "<Figure size 720x360 with 1 Axes>"
      ]
     },
     "metadata": {
      "needs_background": "light"
     },
     "output_type": "display_data"
    }
   ],
   "source": [
    "# Visualize WaitingDays and Show ratio correlation\n",
    "plt.figure(figsize=(10, 5))\n",
    "\n",
    "sns.distplot(df[df['Show'] == 0][\"WaitingDays\"], bins=max(df['WaitingDays']), kde=True)\n",
    "sns.distplot(df[df['Show'] == 1][\"WaitingDays\"], bins=max(df['WaitingDays']), color='red', kde=True)\n",
    "\n",
    "plt.title('WaitingDays Distributions in Missing and Non-Missing Patient Groups', fontsize=15)\n",
    "plt.xlim([min(df['WaitingDays']),max(df['WaitingDays'])])\n",
    "plt.show()"
   ]
  },
  {
   "cell_type": "markdown",
   "metadata": {},
   "source": [
    "* Until 4 days, not missing ratio is higher.\n",
    "* After 4 days, missing ratio is higher."
   ]
  },
  {
   "cell_type": "code",
   "execution_count": 266,
   "metadata": {},
   "outputs": [
    {
     "data": {
      "text/html": [
       "<div>\n",
       "<style scoped>\n",
       "    .dataframe tbody tr th:only-of-type {\n",
       "        vertical-align: middle;\n",
       "    }\n",
       "\n",
       "    .dataframe tbody tr th {\n",
       "        vertical-align: top;\n",
       "    }\n",
       "\n",
       "    .dataframe thead th {\n",
       "        text-align: right;\n",
       "    }\n",
       "</style>\n",
       "<table border=\"1\" class=\"dataframe\">\n",
       "  <thead>\n",
       "    <tr style=\"text-align: right;\">\n",
       "      <th></th>\n",
       "      <th>Neighbourhood</th>\n",
       "      <th>total_appointments</th>\n",
       "      <th>show_appointments</th>\n",
       "      <th>show_prop</th>\n",
       "    </tr>\n",
       "  </thead>\n",
       "  <tbody>\n",
       "    <tr>\n",
       "      <th>38</th>\n",
       "      <td>JARDIM CAMBURI</td>\n",
       "      <td>7717</td>\n",
       "      <td>6252</td>\n",
       "      <td>0.810159</td>\n",
       "    </tr>\n",
       "    <tr>\n",
       "      <th>43</th>\n",
       "      <td>MARIA ORTIZ</td>\n",
       "      <td>5805</td>\n",
       "      <td>4586</td>\n",
       "      <td>0.790009</td>\n",
       "    </tr>\n",
       "    <tr>\n",
       "      <th>59</th>\n",
       "      <td>RESISTÊNCIA</td>\n",
       "      <td>4430</td>\n",
       "      <td>3525</td>\n",
       "      <td>0.795711</td>\n",
       "    </tr>\n",
       "    <tr>\n",
       "      <th>39</th>\n",
       "      <td>JARDIM DA PENHA</td>\n",
       "      <td>3877</td>\n",
       "      <td>3246</td>\n",
       "      <td>0.837245</td>\n",
       "    </tr>\n",
       "    <tr>\n",
       "      <th>36</th>\n",
       "      <td>ITARARÉ</td>\n",
       "      <td>3514</td>\n",
       "      <td>2591</td>\n",
       "      <td>0.737336</td>\n",
       "    </tr>\n",
       "    <tr>\n",
       "      <th>10</th>\n",
       "      <td>CENTRO</td>\n",
       "      <td>3334</td>\n",
       "      <td>2631</td>\n",
       "      <td>0.789142</td>\n",
       "    </tr>\n",
       "    <tr>\n",
       "      <th>78</th>\n",
       "      <td>TABUAZEIRO</td>\n",
       "      <td>3131</td>\n",
       "      <td>2559</td>\n",
       "      <td>0.817311</td>\n",
       "    </tr>\n",
       "    <tr>\n",
       "      <th>66</th>\n",
       "      <td>SANTA MARTHA</td>\n",
       "      <td>3131</td>\n",
       "      <td>2635</td>\n",
       "      <td>0.841584</td>\n",
       "    </tr>\n",
       "    <tr>\n",
       "      <th>40</th>\n",
       "      <td>JESUS DE NAZARETH</td>\n",
       "      <td>2853</td>\n",
       "      <td>2157</td>\n",
       "      <td>0.756046</td>\n",
       "    </tr>\n",
       "    <tr>\n",
       "      <th>8</th>\n",
       "      <td>BONFIM</td>\n",
       "      <td>2773</td>\n",
       "      <td>2223</td>\n",
       "      <td>0.801659</td>\n",
       "    </tr>\n",
       "  </tbody>\n",
       "</table>\n",
       "</div>"
      ],
      "text/plain": [
       "        Neighbourhood  total_appointments  show_appointments  show_prop\n",
       "38     JARDIM CAMBURI                7717               6252   0.810159\n",
       "43        MARIA ORTIZ                5805               4586   0.790009\n",
       "59        RESISTÊNCIA                4430               3525   0.795711\n",
       "39    JARDIM DA PENHA                3877               3246   0.837245\n",
       "36            ITARARÉ                3514               2591   0.737336\n",
       "10             CENTRO                3334               2631   0.789142\n",
       "78         TABUAZEIRO                3131               2559   0.817311\n",
       "66       SANTA MARTHA                3131               2635   0.841584\n",
       "40  JESUS DE NAZARETH                2853               2157   0.756046\n",
       "8              BONFIM                2773               2223   0.801659"
      ]
     },
     "execution_count": 266,
     "metadata": {},
     "output_type": "execute_result"
    }
   ],
   "source": [
    "# Analyze the neighbourhoods\n",
    "\n",
    "#Create empty dataframe\n",
    "neighbour_df = pd.DataFrame()\n",
    "\n",
    "neighbour_df['total_appointments'] = df.groupby(by='Neighbourhood').Show.count()\n",
    "neighbour_df['show_appointments'] = df.groupby(by='Neighbourhood').Show.sum()\n",
    "neighbour_df['show_prop'] = df.groupby(by='Neighbourhood').Show.mean()\n",
    "neighbour_df.reset_index(inplace=True)\n",
    "\n",
    "# Sort by descending and show top 10\n",
    "high_appointment_neigh = neighbour_df.sort_values('total_appointments',ascending=False).head(10)\n",
    "high_appointment_neigh"
   ]
  },
  {
   "cell_type": "markdown",
   "metadata": {},
   "source": [
    "* Show proportion between the neighbourhood is not differs very much.\n",
    "* Most of the patients from JARDIM CAMBURI"
   ]
  },
  {
   "cell_type": "markdown",
   "metadata": {},
   "source": [
    "# Modeling"
   ]
  },
  {
   "cell_type": "markdown",
   "metadata": {},
   "source": [
    "### Data Preprocessing"
   ]
  },
  {
   "cell_type": "code",
   "execution_count": 267,
   "metadata": {},
   "outputs": [
    {
     "data": {
      "text/plain": [
       "Index(['PatientID', 'AppointmentID', 'IsMale', 'ScheduledDay',\n",
       "       'AppointmentDay', 'Age', 'Neighbourhood', 'Scholarship', 'Hypertension',\n",
       "       'Diabetes', 'Alcoholism', 'Handicap', 'SMSreceived', 'Show',\n",
       "       'ScheduledHour', 'AppointmentWeekDay', 'AppointmentMonth',\n",
       "       'WaitingDays', 'AgeScaled', 'WaitingDaysScaled', 'ScheduledHourScaled'],\n",
       "      dtype='object')"
      ]
     },
     "execution_count": 267,
     "metadata": {},
     "output_type": "execute_result"
    }
   ],
   "source": [
    "df.columns"
   ]
  },
  {
   "cell_type": "code",
   "execution_count": 268,
   "metadata": {},
   "outputs": [],
   "source": [
    "# Drop 'AppointmentID' column, it is unnecessary\n",
    "# (We will use 'PatientID' column for preventing data leakage when \n",
    "#  splitting the data for train and test)\n",
    "df = df.drop(columns='AppointmentID', axis=1)\n",
    "\n",
    "# Drop 'AppointmentDay', 'ScheduledDay' groups as we created features from them\n",
    "df = df.drop(columns=['AppointmentDay', 'ScheduledDay'], axis=1)"
   ]
  },
  {
   "cell_type": "code",
   "execution_count": 269,
   "metadata": {},
   "outputs": [
    {
     "name": "stdout",
     "output_type": "stream",
     "text": [
      "\n",
      "PatientID\n",
      "822145925426128    88\n",
      "99637671331        84\n",
      "26886125921145     70\n",
      "33534783483176     65\n",
      "871374938638855    62\n",
      "                   ..\n",
      "735858598529        1\n",
      "2886912523138       1\n",
      "68129842443312      1\n",
      "99264711372         1\n",
      "57863365759569      1\n",
      "Name: PatientID, Length: 62298, dtype: int64\n",
      "\n",
      "IsMale\n",
      "0    71836\n",
      "1    38685\n",
      "Name: IsMale, dtype: int64\n",
      "\n",
      "Age\n",
      "0      3539\n",
      "1      2273\n",
      "52     1746\n",
      "49     1652\n",
      "53     1651\n",
      "       ... \n",
      "98        6\n",
      "115       5\n",
      "100       4\n",
      "102       2\n",
      "99        1\n",
      "Name: Age, Length: 103, dtype: int64\n",
      "\n",
      "Neighbourhood\n",
      "JARDIM CAMBURI                 7717\n",
      "MARIA ORTIZ                    5805\n",
      "RESISTÊNCIA                    4430\n",
      "JARDIM DA PENHA                3877\n",
      "ITARARÉ                        3514\n",
      "                               ... \n",
      "ILHA DO BOI                      35\n",
      "ILHA DO FRADE                    10\n",
      "AEROPORTO                         8\n",
      "ILHAS OCEÂNICAS DE TRINDADE       2\n",
      "PARQUE INDUSTRIAL                 1\n",
      "Name: Neighbourhood, Length: 81, dtype: int64\n",
      "\n",
      "Scholarship\n",
      "0    99660\n",
      "1    10861\n",
      "Name: Scholarship, dtype: int64\n",
      "\n",
      "Hypertension\n",
      "0    88720\n",
      "1    21801\n",
      "Name: Hypertension, dtype: int64\n",
      "\n",
      "Diabetes\n",
      "0    102578\n",
      "1      7943\n",
      "Name: Diabetes, dtype: int64\n",
      "\n",
      "Alcoholism\n",
      "0    107161\n",
      "1      3360\n",
      "Name: Alcoholism, dtype: int64\n",
      "\n",
      "Handicap\n",
      "0    108282\n",
      "1      2040\n",
      "2       183\n",
      "3        13\n",
      "4         3\n",
      "Name: Handicap, dtype: int64\n",
      "\n",
      "SMSreceived\n",
      "0    75039\n",
      "1    35482\n",
      "Name: SMSreceived, dtype: int64\n",
      "\n",
      "Show\n",
      "1    88207\n",
      "0    22314\n",
      "Name: Show, dtype: int64\n",
      "\n",
      "ScheduledHour\n",
      "7     19213\n",
      "8     15348\n",
      "9     12823\n",
      "10    11055\n",
      "14     9126\n",
      "13     9034\n",
      "11     8462\n",
      "15     8079\n",
      "16     5542\n",
      "12     5422\n",
      "17     2909\n",
      "6      1577\n",
      "18     1340\n",
      "19      488\n",
      "20      100\n",
      "21        3\n",
      "Name: ScheduledHour, dtype: int64\n",
      "\n",
      "AppointmentWeekDay\n",
      "Wednesday    25866\n",
      "Tuesday      25638\n",
      "Monday       22713\n",
      "Friday       19019\n",
      "Thursday     17246\n",
      "Saturday        39\n",
      "Name: AppointmentWeekDay, dtype: int64\n",
      "\n",
      "AppointmentMonth\n",
      "May      80836\n",
      "June     26450\n",
      "April     3235\n",
      "Name: AppointmentMonth, dtype: int64\n",
      "\n",
      "WaitingDays\n",
      "0      38562\n",
      "2       6725\n",
      "4       5290\n",
      "1       5213\n",
      "7       4906\n",
      "       ...  \n",
      "101        1\n",
      "132        1\n",
      "151        1\n",
      "146        1\n",
      "127        1\n",
      "Name: WaitingDays, Length: 129, dtype: int64\n",
      "\n",
      "AgeScaled\n",
      "-1.604905    3539\n",
      "-1.561633    2273\n",
      " 0.645211    1746\n",
      " 0.515397    1652\n",
      " 0.688483    1651\n",
      "             ... \n",
      " 2.635698       6\n",
      " 3.371313       5\n",
      " 2.722241       4\n",
      " 2.808784       2\n",
      " 2.678970       1\n",
      "Name: AgeScaled, Length: 103, dtype: int64\n",
      "\n",
      "WaitingDaysScaled\n",
      "-0.667572    38562\n",
      "-0.536468     6725\n",
      "-0.405363     5290\n",
      "-0.602020     5213\n",
      "-0.208705     4906\n",
      "             ...  \n",
      " 5.953223        1\n",
      " 7.002061        1\n",
      " 9.230844        1\n",
      " 7.592033        1\n",
      " 8.903082        1\n",
      "Name: WaitingDaysScaled, Length: 129, dtype: int64\n",
      "\n",
      "ScheduledHourScaled\n",
      "-1.173611    19213\n",
      "-0.862683    15348\n",
      "-0.551755    12823\n",
      "-0.240827    11055\n",
      " 1.002886     9126\n",
      " 0.691957     9034\n",
      " 0.070101     8462\n",
      " 1.313814     8079\n",
      " 1.624742     5542\n",
      " 0.381029     5422\n",
      " 1.935670     2909\n",
      "-1.484539     1577\n",
      " 2.246598     1340\n",
      " 2.557526      488\n",
      " 2.868454      100\n",
      " 3.179382        3\n",
      "Name: ScheduledHourScaled, dtype: int64\n"
     ]
    }
   ],
   "source": [
    "# All unique values and value counts of every column.\n",
    "for column in df.columns:\n",
    "    print(\"\\n\" + column)\n",
    "    print(df[column].value_counts())"
   ]
  },
  {
   "cell_type": "code",
   "execution_count": 270,
   "metadata": {},
   "outputs": [],
   "source": [
    "# One-hot encode 'Neighbourhood','Handicap', 'AgeGroup', \n",
    "# 'AppointmentWeekDay', 'AppointmentMonth', 'WaitingDaysGroup' columns\n",
    "df1 = pd.get_dummies(df, columns=['Neighbourhood','Handicap', 'AppointmentWeekDay', 'AppointmentMonth'], prefix=['Neighbourhood','Handicap', 'AppointmentWeekDay', 'AppointmentMonth'])"
   ]
  },
  {
   "cell_type": "markdown",
   "metadata": {},
   "source": [
    "## Data Splitting"
   ]
  },
  {
   "cell_type": "markdown",
   "metadata": {},
   "source": [
    "If different appointments of the same patient take place in both train, test groups at the same time, data leakage may occur. \n",
    "\n",
    "So we have to take that into consideration when splitting data. "
   ]
  },
  {
   "cell_type": "code",
   "execution_count": 271,
   "metadata": {},
   "outputs": [],
   "source": [
    "# Drop 'Show' from predictors dataset\n",
    "X = df1.drop('Show', axis=1)\n",
    "# Drop 'Age', 'WaitingDays', 'ScheduledHour' features as we scaled them and we will use scaled features.\n",
    "X = df1.drop(columns = ['Age', 'WaitingDays', 'ScheduledHour'], axis=1)\n",
    "\n",
    "y = df1.Show"
   ]
  },
  {
   "cell_type": "code",
   "execution_count": 272,
   "metadata": {},
   "outputs": [],
   "source": [
    "gs = GroupShuffleSplit(n_splits=2, test_size=.25, random_state=0)\n",
    "train_ix, test_ix = next(gs.split(X, y, groups=X.PatientID))"
   ]
  },
  {
   "cell_type": "code",
   "execution_count": 273,
   "metadata": {},
   "outputs": [
    {
     "data": {
      "text/plain": [
       "83022"
      ]
     },
     "execution_count": 273,
     "metadata": {},
     "output_type": "execute_result"
    }
   ],
   "source": [
    "len(train_ix)"
   ]
  },
  {
   "cell_type": "code",
   "execution_count": 274,
   "metadata": {},
   "outputs": [],
   "source": [
    "X_train = X.iloc[train_ix]\n",
    "X_train = X_train.drop('PatientID',1)\n",
    "y_train = y.iloc[train_ix]\n",
    "\n",
    "X_test = X.iloc[test_ix]\n",
    "X_test = X_test.drop('PatientID',1)\n",
    "y_test = y.iloc[test_ix]"
   ]
  },
  {
   "cell_type": "code",
   "execution_count": 275,
   "metadata": {},
   "outputs": [
    {
     "name": "stdout",
     "output_type": "stream",
     "text": [
      "Train set data shape: (83022, 105)\n",
      "Test set data shape: (27499, 105)\n"
     ]
    }
   ],
   "source": [
    "print(\"Train set data shape: \" + str(X_train.shape))\n",
    "print(\"Test set data shape: \" + str(X_test.shape))"
   ]
  },
  {
   "cell_type": "markdown",
   "metadata": {},
   "source": [
    "## Model Selection"
   ]
  },
  {
   "cell_type": "code",
   "execution_count": 276,
   "metadata": {},
   "outputs": [],
   "source": [
    "def report(y_test, y_pred):\n",
    "    \"\"\"\n",
    "    Creates confusion matrix and classification report\n",
    "    \n",
    "    Args:\n",
    "    y_test: splitted test dataframe labels\n",
    "    y_pred: predictions for test dataframe\n",
    "    \n",
    "    Returns:\n",
    "    None\n",
    "    \"\"\"\n",
    "    cm = confusion_matrix(y_test, y_pred)\n",
    "    sns.heatmap(cm, annot=True,fmt='d',cmap=\"flare\");\n",
    "\n",
    "    print(classification_report(y_test,y_pred))"
   ]
  },
  {
   "cell_type": "markdown",
   "metadata": {},
   "source": [
    "### 1. DecisionTreeClassifier"
   ]
  },
  {
   "cell_type": "code",
   "execution_count": 277,
   "metadata": {},
   "outputs": [
    {
     "data": {
      "text/plain": [
       "'#create DecisionTreeClassifier classification obj\\ndt_clf = DecisionTreeClassifier(random_state=0)\\n\\n#training via DecisionTreeClassifier classficiation model\\ndt_clf.fit(X_train, y_train)\\n\\n#make prediction using the test set\\ny_pred = dt_clf.predict(X_test)\\n\\nreport(y_test, y_pred)'"
      ]
     },
     "execution_count": 277,
     "metadata": {},
     "output_type": "execute_result"
    }
   ],
   "source": [
    "\"\"\"#create DecisionTreeClassifier classification obj\n",
    "dt_clf = DecisionTreeClassifier(random_state=0)\n",
    "\n",
    "#training via DecisionTreeClassifier classficiation model\n",
    "dt_clf.fit(X_train, y_train)\n",
    "\n",
    "#make prediction using the test set\n",
    "y_pred = dt_clf.predict(X_test)\n",
    "\n",
    "report(y_test, y_pred)\"\"\""
   ]
  },
  {
   "cell_type": "markdown",
   "metadata": {},
   "source": [
    "### 2. RandomForestClassifier"
   ]
  },
  {
   "cell_type": "code",
   "execution_count": 278,
   "metadata": {},
   "outputs": [
    {
     "data": {
      "text/plain": [
       "'#create RandomForestClassifier classification obj\\nrf_clf  = RandomForestClassifier(random_state=0)\\n\\n#training via RandomForestClassifier classficiation model\\nrf_clf .fit(X_train, y_train)\\n\\n#make prediction using the test set\\ny_pred = rf_clf .predict(X_test)\\n\\nreport(y_test, y_pred)'"
      ]
     },
     "execution_count": 278,
     "metadata": {},
     "output_type": "execute_result"
    }
   ],
   "source": [
    "\"\"\"#create RandomForestClassifier classification obj\n",
    "rf_clf  = RandomForestClassifier(random_state=0)\n",
    "\n",
    "#training via RandomForestClassifier classficiation model\n",
    "rf_clf .fit(X_train, y_train)\n",
    "\n",
    "#make prediction using the test set\n",
    "y_pred = rf_clf .predict(X_test)\n",
    "\n",
    "report(y_test, y_pred)\"\"\""
   ]
  },
  {
   "cell_type": "markdown",
   "metadata": {},
   "source": [
    "### 3. RandomForestClassifier with GridSearch"
   ]
  },
  {
   "cell_type": "code",
   "execution_count": 279,
   "metadata": {},
   "outputs": [
    {
     "data": {
      "text/plain": [
       "\"#create RandomForest classification obj\\nforest_obj = RandomForestClassifier()\\nparameters = {'n_estimators':[20, 50, 100], 'max_depth':[4, 6, 8]}\\nforest = GridSearchCV(forest_obj, parameters)\\n\\n#training via RandomForest classficiation model\\nforest.fit(X_train, y_train)\\n\\n#make prediction using the test set\\ny_pred= forest.predict(X_test)\\n\\nreport(y_test, y_pred)\""
      ]
     },
     "execution_count": 279,
     "metadata": {},
     "output_type": "execute_result"
    }
   ],
   "source": [
    "\"\"\"#create RandomForest classification obj\n",
    "forest_obj = RandomForestClassifier()\n",
    "parameters = {'n_estimators':[20, 50, 100], 'max_depth':[4, 6, 8]}\n",
    "forest = GridSearchCV(forest_obj, parameters)\n",
    "\n",
    "#training via RandomForest classficiation model\n",
    "forest.fit(X_train, y_train)\n",
    "\n",
    "#make prediction using the test set\n",
    "y_pred= forest.predict(X_test)\n",
    "\n",
    "report(y_test, y_pred)\"\"\""
   ]
  },
  {
   "cell_type": "markdown",
   "metadata": {},
   "source": [
    "I could not select parameters correctly, default verison above was better for better results."
   ]
  },
  {
   "cell_type": "markdown",
   "metadata": {},
   "source": [
    "### 4.XGboost"
   ]
  },
  {
   "cell_type": "code",
   "execution_count": 280,
   "metadata": {},
   "outputs": [
    {
     "data": {
      "text/plain": [
       "'#create xgboost classification obj\\nxgboost_clf = GradientBoostingClassifier(random_state=0)\\n\\n#training via xgboost classficiation model\\nxgboost_clf.fit(X_train, y_train)\\n\\n#make prediction using the test set\\ny_pred= xgboost_clf.predict(X_test)\\n\\nreport(y_test, y_pred)'"
      ]
     },
     "execution_count": 280,
     "metadata": {},
     "output_type": "execute_result"
    }
   ],
   "source": [
    "\"\"\"#create xgboost classification obj\n",
    "xgboost_clf = GradientBoostingClassifier(random_state=0)\n",
    "\n",
    "#training via xgboost classficiation model\n",
    "xgboost_clf.fit(X_train, y_train)\n",
    "\n",
    "#make prediction using the test set\n",
    "y_pred= xgboost_clf.predict(X_test)\n",
    "\n",
    "report(y_test, y_pred)\"\"\""
   ]
  },
  {
   "cell_type": "markdown",
   "metadata": {},
   "source": [
    "# Improvements "
   ]
  },
  {
   "cell_type": "markdown",
   "metadata": {},
   "source": [
    "We StandardScaled the Age, ScheduledHour and WaitingDays columns.\n",
    "\n",
    "Instead of scaling, let's try grouping of them with real-life knowledge. And try to predict with this features.\n"
   ]
  },
  {
   "cell_type": "markdown",
   "metadata": {},
   "source": [
    "### Binning the values"
   ]
  },
  {
   "cell_type": "code",
   "execution_count": 312,
   "metadata": {},
   "outputs": [],
   "source": [
    "bins_edges = [0,23,46,69,111] #calculated with StdDeviation\n",
    "bins_names = ['Children','Youth','Adult','Senior']\n",
    "\n",
    "df['AgeGroups'] = pd.cut(x=df['Age'],bins=bins_edges,labels=bins_names)"
   ]
  },
  {
   "cell_type": "code",
   "execution_count": 313,
   "metadata": {},
   "outputs": [],
   "source": [
    "bins_edges = [-1,7,12,17,25] #calculated with StdDeviation\n",
    "bins_names = ['Night','BeforeMidday','Afternoon','Evening']\n",
    "\n",
    "df['ScheduledHourGroups'] = pd.cut(x=df['ScheduledHour'],bins=bins_edges,labels=bins_names)"
   ]
  },
  {
   "cell_type": "code",
   "execution_count": 314,
   "metadata": {},
   "outputs": [],
   "source": [
    "bins_edges = [-1,3,7,30,60,90, max(df['WaitingDays'])] #calculated with StdDeviation\n",
    "bins_names = ['threeDay','week','month','twoMonth','threeMonth', 'more']\n",
    "\n",
    "df['WaitingDaysGroups'] = pd.cut(x=df['WaitingDays'],bins=bins_edges,labels=bins_names)"
   ]
  },
  {
   "cell_type": "markdown",
   "metadata": {},
   "source": [
    "### Drop Unnecessary Features and Split the Data"
   ]
  },
  {
   "cell_type": "code",
   "execution_count": 315,
   "metadata": {},
   "outputs": [],
   "source": [
    "# One-hot encode 'AgeGroups','ScheduledHourGroups', 'WaitingDaysGroups'\n",
    "df2 = pd.get_dummies(df, columns=['AgeGroups','ScheduledHourGroups', 'WaitingDaysGroups', 'Neighbourhood','Handicap', 'AppointmentWeekDay', 'AppointmentMonth'], prefix=['AgeGroups','ScheduledHourGroups', 'WaitingDaysGroups', 'Neighbourhood','Handicap', 'AppointmentWeekDay', 'AppointmentMonth'])\n",
    "\n",
    "# Drop 'Show' from predictors dataset\n",
    "X = df2.drop('Show', axis=1)\n",
    "# Drop 'Age','ScheduledHour','WaitingDays' features as we scaled them and we will use scaled features.\n",
    "X = df2.drop(columns = ['Age', 'ScheduledHour', 'WaitingDays','AgeScaled', 'ScheduledHourScaled', 'WaitingDaysScaled'], axis=1)\n",
    "\n",
    "y = df2.Show"
   ]
  },
  {
   "cell_type": "code",
   "execution_count": 316,
   "metadata": {},
   "outputs": [],
   "source": [
    "gs = GroupShuffleSplit(n_splits=2, test_size=.25, random_state=0)\n",
    "train_ix, test_ix = next(gs.split(X, y, groups=X.PatientID))"
   ]
  },
  {
   "cell_type": "code",
   "execution_count": 317,
   "metadata": {},
   "outputs": [],
   "source": [
    "X_train = X.iloc[train_ix]\n",
    "X_train = X_train.drop('PatientID',1)\n",
    "y_train = y.iloc[train_ix]\n",
    "\n",
    "X_test = X.iloc[test_ix]\n",
    "X_test = X_test.drop('PatientID',1)\n",
    "y_test = y.iloc[test_ix]"
   ]
  },
  {
   "cell_type": "code",
   "execution_count": 318,
   "metadata": {},
   "outputs": [
    {
     "data": {
      "text/html": [
       "<div>\n",
       "<style scoped>\n",
       "    .dataframe tbody tr th:only-of-type {\n",
       "        vertical-align: middle;\n",
       "    }\n",
       "\n",
       "    .dataframe tbody tr th {\n",
       "        vertical-align: top;\n",
       "    }\n",
       "\n",
       "    .dataframe thead th {\n",
       "        text-align: right;\n",
       "    }\n",
       "</style>\n",
       "<table border=\"1\" class=\"dataframe\">\n",
       "  <thead>\n",
       "    <tr style=\"text-align: right;\">\n",
       "      <th></th>\n",
       "      <th>IsMale</th>\n",
       "      <th>Scholarship</th>\n",
       "      <th>Hypertension</th>\n",
       "      <th>Diabetes</th>\n",
       "      <th>Alcoholism</th>\n",
       "      <th>SMSreceived</th>\n",
       "      <th>Show</th>\n",
       "      <th>AgeGroups_Children</th>\n",
       "      <th>AgeGroups_Youth</th>\n",
       "      <th>AgeGroups_Adult</th>\n",
       "      <th>...</th>\n",
       "      <th>Handicap_4</th>\n",
       "      <th>AppointmentWeekDay_Friday</th>\n",
       "      <th>AppointmentWeekDay_Monday</th>\n",
       "      <th>AppointmentWeekDay_Saturday</th>\n",
       "      <th>AppointmentWeekDay_Thursday</th>\n",
       "      <th>AppointmentWeekDay_Tuesday</th>\n",
       "      <th>AppointmentWeekDay_Wednesday</th>\n",
       "      <th>AppointmentMonth_April</th>\n",
       "      <th>AppointmentMonth_June</th>\n",
       "      <th>AppointmentMonth_May</th>\n",
       "    </tr>\n",
       "  </thead>\n",
       "  <tbody>\n",
       "    <tr>\n",
       "      <th>0</th>\n",
       "      <td>0</td>\n",
       "      <td>0</td>\n",
       "      <td>1</td>\n",
       "      <td>0</td>\n",
       "      <td>0</td>\n",
       "      <td>0</td>\n",
       "      <td>1</td>\n",
       "      <td>0</td>\n",
       "      <td>0</td>\n",
       "      <td>1</td>\n",
       "      <td>...</td>\n",
       "      <td>0</td>\n",
       "      <td>1</td>\n",
       "      <td>0</td>\n",
       "      <td>0</td>\n",
       "      <td>0</td>\n",
       "      <td>0</td>\n",
       "      <td>0</td>\n",
       "      <td>1</td>\n",
       "      <td>0</td>\n",
       "      <td>0</td>\n",
       "    </tr>\n",
       "    <tr>\n",
       "      <th>1</th>\n",
       "      <td>1</td>\n",
       "      <td>0</td>\n",
       "      <td>0</td>\n",
       "      <td>0</td>\n",
       "      <td>0</td>\n",
       "      <td>0</td>\n",
       "      <td>1</td>\n",
       "      <td>0</td>\n",
       "      <td>0</td>\n",
       "      <td>1</td>\n",
       "      <td>...</td>\n",
       "      <td>0</td>\n",
       "      <td>1</td>\n",
       "      <td>0</td>\n",
       "      <td>0</td>\n",
       "      <td>0</td>\n",
       "      <td>0</td>\n",
       "      <td>0</td>\n",
       "      <td>1</td>\n",
       "      <td>0</td>\n",
       "      <td>0</td>\n",
       "    </tr>\n",
       "    <tr>\n",
       "      <th>3</th>\n",
       "      <td>0</td>\n",
       "      <td>0</td>\n",
       "      <td>0</td>\n",
       "      <td>0</td>\n",
       "      <td>0</td>\n",
       "      <td>0</td>\n",
       "      <td>1</td>\n",
       "      <td>1</td>\n",
       "      <td>0</td>\n",
       "      <td>0</td>\n",
       "      <td>...</td>\n",
       "      <td>0</td>\n",
       "      <td>1</td>\n",
       "      <td>0</td>\n",
       "      <td>0</td>\n",
       "      <td>0</td>\n",
       "      <td>0</td>\n",
       "      <td>0</td>\n",
       "      <td>1</td>\n",
       "      <td>0</td>\n",
       "      <td>0</td>\n",
       "    </tr>\n",
       "    <tr>\n",
       "      <th>4</th>\n",
       "      <td>0</td>\n",
       "      <td>0</td>\n",
       "      <td>1</td>\n",
       "      <td>1</td>\n",
       "      <td>0</td>\n",
       "      <td>0</td>\n",
       "      <td>1</td>\n",
       "      <td>0</td>\n",
       "      <td>0</td>\n",
       "      <td>1</td>\n",
       "      <td>...</td>\n",
       "      <td>0</td>\n",
       "      <td>1</td>\n",
       "      <td>0</td>\n",
       "      <td>0</td>\n",
       "      <td>0</td>\n",
       "      <td>0</td>\n",
       "      <td>0</td>\n",
       "      <td>1</td>\n",
       "      <td>0</td>\n",
       "      <td>0</td>\n",
       "    </tr>\n",
       "    <tr>\n",
       "      <th>5</th>\n",
       "      <td>0</td>\n",
       "      <td>0</td>\n",
       "      <td>1</td>\n",
       "      <td>0</td>\n",
       "      <td>0</td>\n",
       "      <td>0</td>\n",
       "      <td>1</td>\n",
       "      <td>0</td>\n",
       "      <td>0</td>\n",
       "      <td>0</td>\n",
       "      <td>...</td>\n",
       "      <td>0</td>\n",
       "      <td>1</td>\n",
       "      <td>0</td>\n",
       "      <td>0</td>\n",
       "      <td>0</td>\n",
       "      <td>0</td>\n",
       "      <td>0</td>\n",
       "      <td>1</td>\n",
       "      <td>0</td>\n",
       "      <td>0</td>\n",
       "    </tr>\n",
       "    <tr>\n",
       "      <th>...</th>\n",
       "      <td>...</td>\n",
       "      <td>...</td>\n",
       "      <td>...</td>\n",
       "      <td>...</td>\n",
       "      <td>...</td>\n",
       "      <td>...</td>\n",
       "      <td>...</td>\n",
       "      <td>...</td>\n",
       "      <td>...</td>\n",
       "      <td>...</td>\n",
       "      <td>...</td>\n",
       "      <td>...</td>\n",
       "      <td>...</td>\n",
       "      <td>...</td>\n",
       "      <td>...</td>\n",
       "      <td>...</td>\n",
       "      <td>...</td>\n",
       "      <td>...</td>\n",
       "      <td>...</td>\n",
       "      <td>...</td>\n",
       "      <td>...</td>\n",
       "    </tr>\n",
       "    <tr>\n",
       "      <th>110522</th>\n",
       "      <td>0</td>\n",
       "      <td>0</td>\n",
       "      <td>0</td>\n",
       "      <td>0</td>\n",
       "      <td>0</td>\n",
       "      <td>1</td>\n",
       "      <td>1</td>\n",
       "      <td>0</td>\n",
       "      <td>0</td>\n",
       "      <td>1</td>\n",
       "      <td>...</td>\n",
       "      <td>0</td>\n",
       "      <td>0</td>\n",
       "      <td>0</td>\n",
       "      <td>0</td>\n",
       "      <td>0</td>\n",
       "      <td>1</td>\n",
       "      <td>0</td>\n",
       "      <td>0</td>\n",
       "      <td>1</td>\n",
       "      <td>0</td>\n",
       "    </tr>\n",
       "    <tr>\n",
       "      <th>110523</th>\n",
       "      <td>0</td>\n",
       "      <td>0</td>\n",
       "      <td>0</td>\n",
       "      <td>0</td>\n",
       "      <td>0</td>\n",
       "      <td>1</td>\n",
       "      <td>1</td>\n",
       "      <td>0</td>\n",
       "      <td>0</td>\n",
       "      <td>1</td>\n",
       "      <td>...</td>\n",
       "      <td>0</td>\n",
       "      <td>0</td>\n",
       "      <td>0</td>\n",
       "      <td>0</td>\n",
       "      <td>0</td>\n",
       "      <td>1</td>\n",
       "      <td>0</td>\n",
       "      <td>0</td>\n",
       "      <td>1</td>\n",
       "      <td>0</td>\n",
       "    </tr>\n",
       "    <tr>\n",
       "      <th>110524</th>\n",
       "      <td>0</td>\n",
       "      <td>0</td>\n",
       "      <td>0</td>\n",
       "      <td>0</td>\n",
       "      <td>0</td>\n",
       "      <td>1</td>\n",
       "      <td>1</td>\n",
       "      <td>1</td>\n",
       "      <td>0</td>\n",
       "      <td>0</td>\n",
       "      <td>...</td>\n",
       "      <td>0</td>\n",
       "      <td>0</td>\n",
       "      <td>0</td>\n",
       "      <td>0</td>\n",
       "      <td>0</td>\n",
       "      <td>1</td>\n",
       "      <td>0</td>\n",
       "      <td>0</td>\n",
       "      <td>1</td>\n",
       "      <td>0</td>\n",
       "    </tr>\n",
       "    <tr>\n",
       "      <th>110525</th>\n",
       "      <td>0</td>\n",
       "      <td>0</td>\n",
       "      <td>0</td>\n",
       "      <td>0</td>\n",
       "      <td>0</td>\n",
       "      <td>1</td>\n",
       "      <td>1</td>\n",
       "      <td>0</td>\n",
       "      <td>1</td>\n",
       "      <td>0</td>\n",
       "      <td>...</td>\n",
       "      <td>0</td>\n",
       "      <td>0</td>\n",
       "      <td>0</td>\n",
       "      <td>0</td>\n",
       "      <td>0</td>\n",
       "      <td>1</td>\n",
       "      <td>0</td>\n",
       "      <td>0</td>\n",
       "      <td>1</td>\n",
       "      <td>0</td>\n",
       "    </tr>\n",
       "    <tr>\n",
       "      <th>110526</th>\n",
       "      <td>0</td>\n",
       "      <td>0</td>\n",
       "      <td>0</td>\n",
       "      <td>0</td>\n",
       "      <td>0</td>\n",
       "      <td>1</td>\n",
       "      <td>1</td>\n",
       "      <td>0</td>\n",
       "      <td>0</td>\n",
       "      <td>1</td>\n",
       "      <td>...</td>\n",
       "      <td>0</td>\n",
       "      <td>0</td>\n",
       "      <td>0</td>\n",
       "      <td>0</td>\n",
       "      <td>0</td>\n",
       "      <td>1</td>\n",
       "      <td>0</td>\n",
       "      <td>0</td>\n",
       "      <td>1</td>\n",
       "      <td>0</td>\n",
       "    </tr>\n",
       "  </tbody>\n",
       "</table>\n",
       "<p>83022 rows × 116 columns</p>\n",
       "</div>"
      ],
      "text/plain": [
       "        IsMale  Scholarship  Hypertension  Diabetes  Alcoholism  SMSreceived  \\\n",
       "0            0            0             1         0           0            0   \n",
       "1            1            0             0         0           0            0   \n",
       "3            0            0             0         0           0            0   \n",
       "4            0            0             1         1           0            0   \n",
       "5            0            0             1         0           0            0   \n",
       "...        ...          ...           ...       ...         ...          ...   \n",
       "110522       0            0             0         0           0            1   \n",
       "110523       0            0             0         0           0            1   \n",
       "110524       0            0             0         0           0            1   \n",
       "110525       0            0             0         0           0            1   \n",
       "110526       0            0             0         0           0            1   \n",
       "\n",
       "        Show  AgeGroups_Children  AgeGroups_Youth  AgeGroups_Adult  ...  \\\n",
       "0          1                   0                0                1  ...   \n",
       "1          1                   0                0                1  ...   \n",
       "3          1                   1                0                0  ...   \n",
       "4          1                   0                0                1  ...   \n",
       "5          1                   0                0                0  ...   \n",
       "...      ...                 ...              ...              ...  ...   \n",
       "110522     1                   0                0                1  ...   \n",
       "110523     1                   0                0                1  ...   \n",
       "110524     1                   1                0                0  ...   \n",
       "110525     1                   0                1                0  ...   \n",
       "110526     1                   0                0                1  ...   \n",
       "\n",
       "        Handicap_4  AppointmentWeekDay_Friday  AppointmentWeekDay_Monday  \\\n",
       "0                0                          1                          0   \n",
       "1                0                          1                          0   \n",
       "3                0                          1                          0   \n",
       "4                0                          1                          0   \n",
       "5                0                          1                          0   \n",
       "...            ...                        ...                        ...   \n",
       "110522           0                          0                          0   \n",
       "110523           0                          0                          0   \n",
       "110524           0                          0                          0   \n",
       "110525           0                          0                          0   \n",
       "110526           0                          0                          0   \n",
       "\n",
       "        AppointmentWeekDay_Saturday  AppointmentWeekDay_Thursday  \\\n",
       "0                                 0                            0   \n",
       "1                                 0                            0   \n",
       "3                                 0                            0   \n",
       "4                                 0                            0   \n",
       "5                                 0                            0   \n",
       "...                             ...                          ...   \n",
       "110522                            0                            0   \n",
       "110523                            0                            0   \n",
       "110524                            0                            0   \n",
       "110525                            0                            0   \n",
       "110526                            0                            0   \n",
       "\n",
       "        AppointmentWeekDay_Tuesday  AppointmentWeekDay_Wednesday  \\\n",
       "0                                0                             0   \n",
       "1                                0                             0   \n",
       "3                                0                             0   \n",
       "4                                0                             0   \n",
       "5                                0                             0   \n",
       "...                            ...                           ...   \n",
       "110522                           1                             0   \n",
       "110523                           1                             0   \n",
       "110524                           1                             0   \n",
       "110525                           1                             0   \n",
       "110526                           1                             0   \n",
       "\n",
       "        AppointmentMonth_April  AppointmentMonth_June  AppointmentMonth_May  \n",
       "0                            1                      0                     0  \n",
       "1                            1                      0                     0  \n",
       "3                            1                      0                     0  \n",
       "4                            1                      0                     0  \n",
       "5                            1                      0                     0  \n",
       "...                        ...                    ...                   ...  \n",
       "110522                       0                      1                     0  \n",
       "110523                       0                      1                     0  \n",
       "110524                       0                      1                     0  \n",
       "110525                       0                      1                     0  \n",
       "110526                       0                      1                     0  \n",
       "\n",
       "[83022 rows x 116 columns]"
      ]
     },
     "execution_count": 318,
     "metadata": {},
     "output_type": "execute_result"
    }
   ],
   "source": [
    "X_train"
   ]
  },
  {
   "cell_type": "code",
   "execution_count": 319,
   "metadata": {},
   "outputs": [
    {
     "name": "stdout",
     "output_type": "stream",
     "text": [
      "Train set data shape: (83022, 116)\n",
      "Test set data shape: (27499, 116)\n"
     ]
    }
   ],
   "source": [
    "print(\"Train set data shape: \" + str(X_train.shape))\n",
    "print(\"Test set data shape: \" + str(X_test.shape))"
   ]
  },
  {
   "cell_type": "code",
   "execution_count": 320,
   "metadata": {},
   "outputs": [
    {
     "name": "stdout",
     "output_type": "stream",
     "text": [
      "              precision    recall  f1-score   support\n",
      "\n",
      "           0       1.00      1.00      1.00      5673\n",
      "           1       1.00      1.00      1.00     21826\n",
      "\n",
      "    accuracy                           1.00     27499\n",
      "   macro avg       1.00      1.00      1.00     27499\n",
      "weighted avg       1.00      1.00      1.00     27499\n",
      "\n"
     ]
    },
    {
     "data": {
      "image/png": "[encoded data removed]",
      "text/plain": [
       "<Figure size 432x288 with 2 Axes>"
      ]
     },
     "metadata": {
      "needs_background": "light"
     },
     "output_type": "display_data"
    }
   ],
   "source": [
    "#create RandomForestClassifier classification obj\n",
    "rf_clf2  = RandomForestClassifier(random_state=0)\n",
    "\n",
    "#training via RandomForestClassifier classficiation model\n",
    "rf_clf2.fit(X_train, y_train)\n",
    "\n",
    "#make prediction using the test set\n",
    "y_pred = rf_clf2.predict(X_test)\n",
    "\n",
    "report(y_test, y_pred)"
   ]
  },
  {
   "cell_type": "code",
   "execution_count": 321,
   "metadata": {},
   "outputs": [
    {
     "name": "stdout",
     "output_type": "stream",
     "text": [
      "              precision    recall  f1-score   support\n",
      "\n",
      "           0       1.00      1.00      1.00      5673\n",
      "           1       1.00      1.00      1.00     21826\n",
      "\n",
      "    accuracy                           1.00     27499\n",
      "   macro avg       1.00      1.00      1.00     27499\n",
      "weighted avg       1.00      1.00      1.00     27499\n",
      "\n"
     ]
    },
    {
     "data": {
      "image/png": "[encoded data removed]",
      "text/plain": [
       "<Figure size 432x288 with 2 Axes>"
      ]
     },
     "metadata": {
      "needs_background": "light"
     },
     "output_type": "display_data"
    }
   ],
   "source": [
    "#create xgboost classification obj\n",
    "xgboost_clf2 = GradientBoostingClassifier(random_state=0)\n",
    "\n",
    "#training via xgboost classficiation model\n",
    "xgboost_clf2.fit(X_train, y_train)\n",
    "\n",
    "#make prediction using the test set\n",
    "y_pred= xgboost_clf2.predict(X_test)\n",
    "\n",
    "report(y_test, y_pred)"
   ]
  },
  {
   "cell_type": "markdown",
   "metadata": {},
   "source": [
    "# Evaluation"
   ]
  },
  {
   "cell_type": "markdown",
   "metadata": {},
   "source": [
    "According to accuracy, XGboost seems as best predictor model. But according to f1-scores, best model is random forest classifier with grad-searched parameters. Accuracy value can be misleading for unbalanced datasets. f1-score gives better insight such this situations.\n",
    "\n",
    "**Best model:**  Random Forest Classifier ,  **f1-score:**  0.19, **Accuracy:** 0.79\n",
    "\n",
    "Best model feature importances are:"
   ]
  },
  {
   "cell_type": "code",
   "execution_count": 299,
   "metadata": {},
   "outputs": [
    {
     "name": "stdout",
     "output_type": "stream",
     "text": [
      "PatientID -- 0.84\n",
      "IsMale -- 0.04\n",
      "Scholarship -- 0.02\n",
      "Hypertension -- 0.01\n",
      "Diabetes -- 0.01\n",
      "Alcoholism -- 0.01\n",
      "SMSreceived -- 0.01\n",
      "Show -- 0.00\n",
      "AgeScaled -- 0.00\n",
      "WaitingDaysScaled -- 0.00\n",
      "ScheduledHourScaled -- 0.00\n",
      "AgeGroups_Children -- 0.00\n",
      "AgeGroups_Youth -- 0.00\n",
      "AgeGroups_Adult -- 0.00\n",
      "AgeGroups_Senior -- 0.00\n",
      "ScheduledHourGroups_Night -- 0.00\n",
      "ScheduledHourGroups_BeforeMidday -- 0.00\n",
      "ScheduledHourGroups_Afternoon -- 0.00\n",
      "ScheduledHourGroups_Evening -- 0.00\n",
      "WaitingDaysGroups_threeDay -- 0.00\n",
      "WaitingDaysGroups_week -- 0.00\n",
      "WaitingDaysGroups_month -- 0.00\n",
      "WaitingDaysGroups_twoMonth -- 0.00\n",
      "WaitingDaysGroups_threeMonth -- 0.00\n",
      "WaitingDaysGroups_more -- 0.00\n",
      "Neighbourhood_AEROPORTO -- 0.00\n",
      "Neighbourhood_ANDORINHAS -- 0.00\n",
      "Neighbourhood_ANTÔNIO HONÓRIO -- 0.00\n",
      "Neighbourhood_ARIOVALDO FAVALESSA -- 0.00\n",
      "Neighbourhood_BARRO VERMELHO -- 0.00\n",
      "Neighbourhood_BELA VISTA -- 0.00\n",
      "Neighbourhood_BENTO FERREIRA -- 0.00\n",
      "Neighbourhood_BOA VISTA -- 0.00\n",
      "Neighbourhood_BONFIM -- 0.00\n",
      "Neighbourhood_CARATOÍRA -- 0.00\n",
      "Neighbourhood_CENTRO -- 0.00\n",
      "Neighbourhood_COMDUSA -- 0.00\n",
      "Neighbourhood_CONQUISTA -- 0.00\n",
      "Neighbourhood_CONSOLAÇÃO -- 0.00\n",
      "Neighbourhood_CRUZAMENTO -- 0.00\n",
      "Neighbourhood_DA PENHA -- 0.00\n",
      "Neighbourhood_DE LOURDES -- 0.00\n",
      "Neighbourhood_DO CABRAL -- 0.00\n",
      "Neighbourhood_DO MOSCOSO -- 0.00\n",
      "Neighbourhood_DO QUADRO -- 0.00\n",
      "Neighbourhood_ENSEADA DO SUÁ -- 0.00\n",
      "Neighbourhood_ESTRELINHA -- 0.00\n",
      "Neighbourhood_FONTE GRANDE -- 0.00\n",
      "Neighbourhood_FORTE SÃO JOÃO -- 0.00\n",
      "Neighbourhood_FRADINHOS -- 0.00\n",
      "Neighbourhood_GOIABEIRAS -- 0.00\n",
      "Neighbourhood_GRANDE VITÓRIA -- 0.00\n",
      "Neighbourhood_GURIGICA -- 0.00\n",
      "Neighbourhood_HORTO -- 0.00\n",
      "Neighbourhood_ILHA DAS CAIEIRAS -- 0.00\n",
      "Neighbourhood_ILHA DE SANTA MARIA -- 0.00\n",
      "Neighbourhood_ILHA DO BOI -- 0.00\n",
      "Neighbourhood_ILHA DO FRADE -- 0.00\n",
      "Neighbourhood_ILHA DO PRÍNCIPE -- 0.00\n",
      "Neighbourhood_ILHAS OCEÂNICAS DE TRINDADE -- 0.00\n",
      "Neighbourhood_INHANGUETÁ -- 0.00\n",
      "Neighbourhood_ITARARÉ -- 0.00\n",
      "Neighbourhood_JABOUR -- 0.00\n",
      "Neighbourhood_JARDIM CAMBURI -- 0.00\n",
      "Neighbourhood_JARDIM DA PENHA -- 0.00\n",
      "Neighbourhood_JESUS DE NAZARETH -- 0.00\n",
      "Neighbourhood_JOANA D´ARC -- 0.00\n",
      "Neighbourhood_JUCUTUQUARA -- 0.00\n",
      "Neighbourhood_MARIA ORTIZ -- 0.00\n",
      "Neighbourhood_MARUÍPE -- 0.00\n",
      "Neighbourhood_MATA DA PRAIA -- 0.00\n",
      "Neighbourhood_MONTE BELO -- 0.00\n",
      "Neighbourhood_MORADA DE CAMBURI -- 0.00\n",
      "Neighbourhood_MÁRIO CYPRESTE -- 0.00\n",
      "Neighbourhood_NAZARETH -- 0.00\n",
      "Neighbourhood_NOVA PALESTINA -- 0.00\n",
      "Neighbourhood_PARQUE INDUSTRIAL -- 0.00\n",
      "Neighbourhood_PARQUE MOSCOSO -- 0.00\n",
      "Neighbourhood_PIEDADE -- 0.00\n",
      "Neighbourhood_PONTAL DE CAMBURI -- 0.00\n",
      "Neighbourhood_PRAIA DO CANTO -- 0.00\n",
      "Neighbourhood_PRAIA DO SUÁ -- 0.00\n",
      "Neighbourhood_REDENÇÃO -- 0.00\n",
      "Neighbourhood_REPÚBLICA -- 0.00\n",
      "Neighbourhood_RESISTÊNCIA -- 0.00\n",
      "Neighbourhood_ROMÃO -- 0.00\n",
      "Neighbourhood_SANTA CECÍLIA -- 0.00\n",
      "Neighbourhood_SANTA CLARA -- 0.00\n",
      "Neighbourhood_SANTA HELENA -- 0.00\n",
      "Neighbourhood_SANTA LUÍZA -- 0.00\n",
      "Neighbourhood_SANTA LÚCIA -- 0.00\n",
      "Neighbourhood_SANTA MARTHA -- 0.00\n",
      "Neighbourhood_SANTA TEREZA -- 0.00\n",
      "Neighbourhood_SANTO ANDRÉ -- 0.00\n",
      "Neighbourhood_SANTO ANTÔNIO -- 0.00\n",
      "Neighbourhood_SANTOS DUMONT -- 0.00\n",
      "Neighbourhood_SANTOS REIS -- 0.00\n",
      "Neighbourhood_SEGURANÇA DO LAR -- 0.00\n",
      "Neighbourhood_SOLON BORGES -- 0.00\n",
      "Neighbourhood_SÃO BENEDITO -- 0.00\n",
      "Neighbourhood_SÃO CRISTÓVÃO -- 0.00\n",
      "Neighbourhood_SÃO JOSÉ -- 0.00\n",
      "Neighbourhood_SÃO PEDRO -- 0.00\n",
      "Neighbourhood_TABUAZEIRO -- 0.00\n",
      "Neighbourhood_UNIVERSITÁRIO -- 0.00\n",
      "Neighbourhood_VILA RUBIM -- 0.00\n",
      "Handicap_0 -- 0.00\n",
      "Handicap_1 -- 0.00\n",
      "Handicap_2 -- 0.00\n",
      "Handicap_3 -- 0.00\n",
      "Handicap_4 -- 0.00\n",
      "AppointmentWeekDay_Friday -- 0.00\n",
      "AppointmentWeekDay_Monday -- 0.00\n",
      "AppointmentWeekDay_Saturday -- 0.00\n",
      "AppointmentWeekDay_Thursday -- 0.00\n",
      "AppointmentWeekDay_Tuesday -- 0.00\n",
      "AppointmentWeekDay_Wednesday -- 0.00\n",
      "AppointmentMonth_April -- 0.00\n",
      "AppointmentMonth_June -- 0.00\n"
     ]
    }
   ],
   "source": [
    "for name, importance in zip(X.columns, np.sort(rf_clf2.feature_importances_)[::-1]):\n",
    "    print(\"{} -- {:.2f}\".format(name, importance))"
   ]
  },
  {
   "cell_type": "markdown",
   "metadata": {},
   "source": [
    "# Limitations"
   ]
  },
  {
   "cell_type": "markdown",
   "metadata": {},
   "source": [
    "* Data collected between 29/4/2016 and 6/6/2016. If data had been collected over a period of more than one year, it would better reflect time-dependent changes. \n",
    "* The appointment time was on the ScheduledDay, but it was not in the AppointmentDay. During busy times of the day, the probability of missing an appointment may be higher. \n",
    "* Doctor's specialty may also be correlated with missed appointment. \n",
    "* Distance between the hospital and destination, insurance situation, education level would be helpful for better analysis."
   ]
  },
  {
   "cell_type": "markdown",
   "metadata": {},
   "source": [
    "# Conclusion"
   ]
  },
  {
   "cell_type": "markdown",
   "metadata": {},
   "source": [
    "**EDA**\n",
    "\n",
    "* Between the ages of 10 and 30, missing an appointment is more common than not.\n",
    "* Showing rate for men and women are similar.\n",
    "* Hypertension is an important factor for higher attendance frequency.\n",
    "* Suprisingly, no-show ratio is high in SMS received group than un-received group.\n",
    "* There is no significant difference between the days of the week in terms of not missing an appointment.\n",
    "\n",
    "**Model Predictions**\n",
    "\n",
    "From the above feature importance, we could see that Gender, Age, Neighbourhood, Scholarship and Hypertension are some of the top features that would help us determine if the patient who has taken an appointment will Show/NoShow."
   ]
  },
  {
   "cell_type": "code",
   "execution_count": null,
   "metadata": {},
   "outputs": [],
   "source": []
  }
 ],
 "metadata": {
  "kernelspec": {
   "display_name": "Python 3",
   "language": "python",
   "name": "python3"
  },
  "language_info": {
   "codemirror_mode": {
    "name": "ipython",
    "version": 3
   },
   "file_extension": ".py",
   "mimetype": "text/x-python",
   "name": "python",
   "nbconvert_exporter": "python",
   "pygments_lexer": "ipython3",
   "version": "3.8.3"
  }
 },
 "nbformat": 4,
 "nbformat_minor": 4
}
